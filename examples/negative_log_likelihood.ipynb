{
 "cells": [
  {
   "cell_type": "code",
   "execution_count": 1,
   "metadata": {},
   "outputs": [],
   "source": [
    "using Statistics\n",
    "using AutoDiff"
   ]
  },
  {
   "cell_type": "code",
   "execution_count": 2,
   "metadata": {},
   "outputs": [
    {
     "data": {
      "text/plain": [
       "BD{Array{Float64,2}}(([0.10399324189862735 0.6066275668935446 0.14507468699673876 0.18854614992972785; 0.7712481384870777 0.3160944877117804 0.6759703978306715 0.6095433881552152; 0.4009133237669553 0.295887043858869 0.09606690385312056 0.5684048621755968], AutoDiff.var\"#3#4\"{Symbol}(:do)))"
      ]
     },
     "execution_count": 2,
     "metadata": {},
     "output_type": "execute_result"
    }
   ],
   "source": [
    "@differentiate i = rand(4, 1)\n",
    "@differentiate w = rand(4, 4)\n",
    "@differentiate o = rand(3, 4)"
   ]
  },
  {
   "cell_type": "code",
   "execution_count": 3,
   "metadata": {},
   "outputs": [
    {
     "data": {
      "text/plain": [
       "f (generic function with 1 method)"
      ]
     },
     "execution_count": 3,
     "metadata": {},
     "output_type": "execute_result"
    }
   ],
   "source": [
    "function f(x)\n",
    "    x = w*x\n",
    "    x = o*x\n",
    "    return x\n",
    "end"
   ]
  },
  {
   "cell_type": "code",
   "execution_count": 4,
   "metadata": {},
   "outputs": [
    {
     "data": {
      "text/plain": [
       "BD{Array{Float64,2}}(([0.7361959505719552; 1.457169654599595; 0.9537715573403264], AutoDiff.var\"#13#14\"{BD{Array{Float64,2}},BD{Array{Float64,2}}}(BD{Array{Float64,2}}(([0.10399324189862735 0.6066275668935446 0.14507468699673876 0.18854614992972785; 0.7712481384870777 0.3160944877117804 0.6759703978306715 0.6095433881552152; 0.4009133237669553 0.295887043858869 0.09606690385312056 0.5684048621755968], AutoDiff.var\"#3#4\"{Symbol}(:do))), BD{Array{Float64,2}}(([0.8164953564215924; 0.8113187657427419; 0.2734322144617971; 0.6335294024383658], AutoDiff.var\"#13#14\"{BD{Array{Float64,2}},BD{Array{Float64,2}}}(BD{Array{Float64,2}}(([0.0839726917206236 0.5813106889850661 0.3560589915440242 0.6488302984216805; 0.14607476818600773 0.5644268524405018 0.8190294046182431 0.5780344657207852; 0.45666454888053964 0.2574294366632246 0.40736018485903647 0.08111509930813154; 0.6897873209954426 0.6827016751344868 0.9717112820770293 0.11565917396016845], AutoDiff.var\"#3#4\"{Symbol}(:dw))), BD{Array{Float64,2}}(([0.035309815003920164; 0.6402800871181757; 0.10281688522929855; 0.6237682829262674], AutoDiff.var\"#3#4\"{Symbol}(:di)))))))))"
      ]
     },
     "execution_count": 4,
     "metadata": {},
     "output_type": "execute_result"
    }
   ],
   "source": [
    "yp = f(i)"
   ]
  },
  {
   "cell_type": "code",
   "execution_count": 5,
   "metadata": {},
   "outputs": [
    {
     "data": {
      "text/plain": [
       "nll"
      ]
     },
     "execution_count": 5,
     "metadata": {},
     "output_type": "execute_result"
    }
   ],
   "source": [
    "function nll_helper(p_y, y)\n",
    "\tba = falses(size(p_y)...)\n",
    "\t[ba[y[p_s],p_s] = true for p_s in 1:size(p_y)[2]]\n",
    "\treturn ba\n",
    "end\n",
    "\n",
    "\"\n",
    "Negative Log Likelihood loss\n",
    "\n",
    "p_y: 2D matrix of outputs\n",
    "\n",
    "y: Array of correct indices\n",
    "\"\n",
    "function nll(p_y, y; average = true)\n",
    "    lp = p_y[nll_helper(p_y, y)]\n",
    "    average ? mean(lp) : sum(lp)\n",
    "end"
   ]
  },
  {
   "cell_type": "code",
   "execution_count": 6,
   "metadata": {},
   "outputs": [
    {
     "data": {
      "text/plain": [
       "BD{Float64}((1.457169654599595, AutoDiff.var\"#38#39\"{BD{Array}}(BD{Array}(([1.457169654599595], AutoDiff.var\"#7#8\"{BD{Array{Float64,2}},BitArray{2}}(BD{Array{Float64,2}}(([0.7361959505719552; 1.457169654599595; 0.9537715573403264], AutoDiff.var\"#13#14\"{BD{Array{Float64,2}},BD{Array{Float64,2}}}(BD{Array{Float64,2}}(([0.10399324189862735 0.6066275668935446 0.14507468699673876 0.18854614992972785; 0.7712481384870777 0.3160944877117804 0.6759703978306715 0.6095433881552152; 0.4009133237669553 0.295887043858869 0.09606690385312056 0.5684048621755968], AutoDiff.var\"#3#4\"{Symbol}(:do))), BD{Array{Float64,2}}(([0.8164953564215924; 0.8113187657427419; 0.2734322144617971; 0.6335294024383658], AutoDiff.var\"#13#14\"{BD{Array{Float64,2}},BD{Array{Float64,2}}}(BD{Array{Float64,2}}(([0.0839726917206236 0.5813106889850661 0.3560589915440242 0.6488302984216805; 0.14607476818600773 0.5644268524405018 0.8190294046182431 0.5780344657207852; 0.45666454888053964 0.2574294366632246 0.40736018485903647 0.08111509930813154; 0.6897873209954426 0.6827016751344868 0.9717112820770293 0.11565917396016845], AutoDiff.var\"#3#4\"{Symbol}(:dw))), BD{Array{Float64,2}}(([0.035309815003920164; 0.6402800871181757; 0.10281688522929855; 0.6237682829262674], AutoDiff.var\"#3#4\"{Symbol}(:di))))))))), Bool[0; 1; 0]))))))"
      ]
     },
     "execution_count": 6,
     "metadata": {},
     "output_type": "execute_result"
    }
   ],
   "source": [
    "lossf = nll(yp, [2], average = false)"
   ]
  },
  {
   "cell_type": "code",
   "execution_count": 7,
   "metadata": {},
   "outputs": [],
   "source": [
    "_rest = lossf.f[2](lossf.f[1]);"
   ]
  },
  {
   "cell_type": "code",
   "execution_count": 8,
   "metadata": {},
   "outputs": [
    {
     "data": {
      "text/plain": [
       "Dict{Symbol,Array{Float64,2}} with 3 entries:\n",
       "  :do => [0.0 0.0 0.0 0.0; 1.18977 1.18223 0.398437 0.92316; 0.0 0.0 0.0 0.0]\n",
       "  :di => [1.22415; 1.77323; 2.04173; 1.17805]\n",
       "  :dw => [0.0396826 0.719572 0.11555 0.701015; 0.0162638 0.294915 0.0473578 0.2…"
      ]
     },
     "execution_count": 8,
     "metadata": {},
     "output_type": "execute_result"
    }
   ],
   "source": [
    "grads = params(_rest)"
   ]
  },
  {
   "cell_type": "code",
   "execution_count": 9,
   "metadata": {},
   "outputs": [
    {
     "data": {
      "text/plain": [
       "3×4 Array{Float64,2}:\n",
       " 0.0      0.0      0.0       0.0\n",
       " 1.18977  1.18223  0.398437  0.92316\n",
       " 0.0      0.0      0.0       0.0"
      ]
     },
     "execution_count": 9,
     "metadata": {},
     "output_type": "execute_result"
    }
   ],
   "source": [
    "_do = grads[:do]"
   ]
  },
  {
   "cell_type": "code",
   "execution_count": 10,
   "metadata": {},
   "outputs": [
    {
     "data": {
      "text/plain": [
       "4×4 Array{Float64,2}:\n",
       " 0.0396826  0.719572  0.11555    0.701015\n",
       " 0.0162638  0.294915  0.0473578  0.28731\n",
       " 0.0347803  0.630678  0.101275   0.614414\n",
       " 0.0313625  0.568702  0.0913228  0.554036"
      ]
     },
     "execution_count": 10,
     "metadata": {},
     "output_type": "execute_result"
    }
   ],
   "source": [
    "_dw = grads[:dw]"
   ]
  },
  {
   "cell_type": "code",
   "execution_count": 11,
   "metadata": {},
   "outputs": [
    {
     "data": {
      "text/plain": [
       "4×1 Array{Float64,2}:\n",
       " 1.2241452453965471\n",
       " 1.7732268010548518\n",
       " 2.0417338482879606\n",
       " 1.1780537017333428"
      ]
     },
     "execution_count": 11,
     "metadata": {},
     "output_type": "execute_result"
    }
   ],
   "source": [
    "_di = grads[:di]"
   ]
  },
  {
   "cell_type": "code",
   "execution_count": null,
   "metadata": {},
   "outputs": [],
   "source": []
  }
 ],
 "metadata": {
  "kernelspec": {
   "display_name": "Julia 1.4.1",
   "language": "julia",
   "name": "julia-1.4"
  },
  "language_info": {
   "file_extension": ".jl",
   "mimetype": "application/julia",
   "name": "julia",
   "version": "1.4.1"
  }
 },
 "nbformat": 4,
 "nbformat_minor": 4
}
