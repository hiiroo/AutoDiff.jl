{
 "cells": [
  {
   "cell_type": "code",
   "execution_count": 1,
   "metadata": {},
   "outputs": [],
   "source": [
    "using Statistics\n",
    "using AutoDiff"
   ]
  },
  {
   "cell_type": "code",
   "execution_count": 2,
   "metadata": {},
   "outputs": [
    {
     "data": {
      "text/plain": [
       "BD{Array{Float64,2}}(([0.22703295468000007 0.9914405580984282 0.591051502753396 0.7689547049218359; 0.7223293904445505 0.6437808994373042 0.63753660688632 0.13906806102542024; 0.8118830920600697 0.7397606745030849 0.4895790650740377 0.9952875853312557], AutoDiff.var\"#3#4\"{Symbol}(:do)))"
      ]
     },
     "execution_count": 2,
     "metadata": {},
     "output_type": "execute_result"
    }
   ],
   "source": [
    "@differentiate i = rand(4, 1)\n",
    "@differentiate w = rand(4, 4)\n",
    "@differentiate o = rand(3, 4)"
   ]
  },
  {
   "cell_type": "code",
   "execution_count": 3,
   "metadata": {},
   "outputs": [
    {
     "data": {
      "text/plain": [
       "f (generic function with 1 method)"
      ]
     },
     "execution_count": 3,
     "metadata": {},
     "output_type": "execute_result"
    }
   ],
   "source": [
    "function f(x)\n",
    "    x = w*x\n",
    "    x = o*x\n",
    "    return x\n",
    "end"
   ]
  },
  {
   "cell_type": "code",
   "execution_count": 4,
   "metadata": {},
   "outputs": [
    {
     "data": {
      "text/plain": [
       "BD{Array{Float64,2}}(([2.38947147243541; 2.1294901941580515; 2.9222653844043953], AutoDiff.var\"#183#184\"{BD{Array{Float64,2}},BD{Array{Float64,2}}}(BD{Array{Float64,2}}(([0.22703295468000007 0.9914405580984282 0.591051502753396 0.7689547049218359; 0.7223293904445505 0.6437808994373042 0.63753660688632 0.13906806102542024; 0.8118830920600697 0.7397606745030849 0.4895790650740377 0.9952875853312557], AutoDiff.var\"#3#4\"{Symbol}(:do))), BD{Array{Float64,2}}(([1.1458605678416238; 0.953259494260071; 0.8931436863266639; 0.8535344343251354], AutoDiff.var\"#183#184\"{BD{Array{Float64,2}},BD{Array{Float64,2}}}(BD{Array{Float64,2}}(([0.17468850920026635 0.9814989927254363 0.9123075825460065 0.11870772368149107; 0.08799713118386987 0.8737653060188084 0.5790661758165849 0.15810313419709776; 0.4350576290111272 0.49395883011754727 0.7012371247600167 0.24444110330945934; 0.31647316715426355 0.5847465231807729 0.4194267308378514 0.1497217253566998], AutoDiff.var\"#3#4\"{Symbol}(:dw))), BD{Array{Float64,2}}(([0.8123298939366617; 0.944709571622151; 0.07211304213234615; 0.09211786098552044], AutoDiff.var\"#3#4\"{Symbol}(:di)))))))))"
      ]
     },
     "execution_count": 4,
     "metadata": {},
     "output_type": "execute_result"
    }
   ],
   "source": [
    "yp = f(i)"
   ]
  },
  {
   "cell_type": "code",
   "execution_count": 5,
   "metadata": {},
   "outputs": [
    {
     "data": {
      "text/plain": [
       "nll"
      ]
     },
     "execution_count": 5,
     "metadata": {},
     "output_type": "execute_result"
    }
   ],
   "source": [
    "function nll_helper(p_y, y)\n",
    "\tba = falses(size(p_y)...)\n",
    "\t[ba[y[p_s],p_s] = true for p_s in 1:size(p_y)[2]]\n",
    "\treturn ba\n",
    "end\n",
    "\n",
    "\"\n",
    "Negative Log Likelihood loss\n",
    "\n",
    "p_y: 2D matrix of outputs\n",
    "\n",
    "y: Array of correct indices\n",
    "\"\n",
    "function nll(p_y, y; average = true)\n",
    "    lp = p_y[nll_helper(p_y, y)]\n",
    "    average ? mean(lp) : sum(lp)\n",
    "end"
   ]
  },
  {
   "cell_type": "code",
   "execution_count": 6,
   "metadata": {},
   "outputs": [
    {
     "data": {
      "text/plain": [
       "BD{Float64}((2.1294901941580515, AutoDiff.var\"#360#361\"{BD{Array}}(BD{Array}(([2.1294901941580515], AutoDiff.var\"#9#10\"{BD{Array{Float64,2}},BitArray{2}}(BD{Array{Float64,2}}(([2.38947147243541; 2.1294901941580515; 2.9222653844043953], AutoDiff.var\"#183#184\"{BD{Array{Float64,2}},BD{Array{Float64,2}}}(BD{Array{Float64,2}}(([0.22703295468000007 0.9914405580984282 0.591051502753396 0.7689547049218359; 0.7223293904445505 0.6437808994373042 0.63753660688632 0.13906806102542024; 0.8118830920600697 0.7397606745030849 0.4895790650740377 0.9952875853312557], AutoDiff.var\"#3#4\"{Symbol}(:do))), BD{Array{Float64,2}}(([1.1458605678416238; 0.953259494260071; 0.8931436863266639; 0.8535344343251354], AutoDiff.var\"#183#184\"{BD{Array{Float64,2}},BD{Array{Float64,2}}}(BD{Array{Float64,2}}(([0.17468850920026635 0.9814989927254363 0.9123075825460065 0.11870772368149107; 0.08799713118386987 0.8737653060188084 0.5790661758165849 0.15810313419709776; 0.4350576290111272 0.49395883011754727 0.7012371247600167 0.24444110330945934; 0.31647316715426355 0.5847465231807729 0.4194267308378514 0.1497217253566998], AutoDiff.var\"#3#4\"{Symbol}(:dw))), BD{Array{Float64,2}}(([0.8123298939366617; 0.944709571622151; 0.07211304213234615; 0.09211786098552044], AutoDiff.var\"#3#4\"{Symbol}(:di))))))))), Bool[0; 1; 0]))))))"
      ]
     },
     "execution_count": 6,
     "metadata": {},
     "output_type": "execute_result"
    }
   ],
   "source": [
    "lossf = nll(yp, [2], average = false)"
   ]
  },
  {
   "cell_type": "code",
   "execution_count": 7,
   "metadata": {},
   "outputs": [],
   "source": [
    "_rest = lossf.f[2](lossf.f[1]);"
   ]
  },
  {
   "cell_type": "code",
   "execution_count": 8,
   "metadata": {},
   "outputs": [
    {
     "data": {
      "text/plain": [
       "Dict{Symbol,Array{Float64,2}} with 3 entries:\n",
       "  :do => [0.0 0.0 0.0 0.0; 2.4401 2.02996 1.90194 1.81759; 0.0 0.0 0.0 0.0]\n",
       "  :di => [1.07371; 3.55138; 3.27339; 0.775542]\n",
       "  :dw => [1.24952 1.45315 0.110924 0.141695; 1.11364 1.29513 0.0988616 0.126287…"
      ]
     },
     "execution_count": 8,
     "metadata": {},
     "output_type": "execute_result"
    }
   ],
   "source": [
    "grads = params(_rest)"
   ]
  },
  {
   "cell_type": "code",
   "execution_count": 9,
   "metadata": {},
   "outputs": [
    {
     "data": {
      "text/plain": [
       "3×4 Array{Float64,2}:\n",
       " 0.0     0.0      0.0      0.0\n",
       " 2.4401  2.02996  1.90194  1.81759\n",
       " 0.0     0.0      0.0      0.0"
      ]
     },
     "execution_count": 9,
     "metadata": {},
     "output_type": "execute_result"
    }
   ],
   "source": [
    "_do = grads[:do]"
   ]
  },
  {
   "cell_type": "code",
   "execution_count": 10,
   "metadata": {},
   "outputs": [
    {
     "data": {
      "text/plain": [
       "4×4 Array{Float64,2}:\n",
       " 1.24952   1.45315  0.110924   0.141695\n",
       " 1.11364   1.29513  0.0988616  0.126287\n",
       " 1.10284   1.28256  0.0979027  0.125062\n",
       " 0.240567  0.27977  0.0213558  0.0272802"
      ]
     },
     "execution_count": 10,
     "metadata": {},
     "output_type": "execute_result"
    }
   ],
   "source": [
    "_dw = grads[:dw]"
   ]
  },
  {
   "cell_type": "code",
   "execution_count": 11,
   "metadata": {},
   "outputs": [
    {
     "data": {
      "text/plain": [
       "4×1 Array{Float64,2}:\n",
       " 1.0737102315292903\n",
       " 3.551383559872826\n",
       " 3.27339168462974\n",
       " 0.7755422647823434"
      ]
     },
     "execution_count": 11,
     "metadata": {},
     "output_type": "execute_result"
    }
   ],
   "source": [
    "_di = grads[:di]"
   ]
  },
  {
   "cell_type": "code",
   "execution_count": null,
   "metadata": {},
   "outputs": [],
   "source": []
  }
 ],
 "metadata": {
  "kernelspec": {
   "display_name": "Julia 1.4.1",
   "language": "julia",
   "name": "julia-1.4"
  },
  "language_info": {
   "file_extension": ".jl",
   "mimetype": "application/julia",
   "name": "julia",
   "version": "1.4.1"
  }
 },
 "nbformat": 4,
 "nbformat_minor": 4
}
