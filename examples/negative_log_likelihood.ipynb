{
 "cells": [
  {
   "cell_type": "code",
   "execution_count": 1,
   "metadata": {},
   "outputs": [],
   "source": [
    "using Statistics\n",
    "using AutoDiff"
   ]
  },
  {
   "cell_type": "code",
   "execution_count": 2,
   "metadata": {},
   "outputs": [
    {
     "data": {
      "text/plain": [
       "BD{Array{Float64,2}}(([0.46607997929705025 0.6976984123603667 0.556446348576147 0.95192363240382; 0.09650473102559132 0.009472988042098729 0.9517275362979278 0.21933612027762028; 0.8492937555457114 0.6211585861179731 0.9478589554886907 0.05459688156669151], AutoDiff.var\"#3#4\"{Symbol}(:do)))"
      ]
     },
     "execution_count": 2,
     "metadata": {},
     "output_type": "execute_result"
    }
   ],
   "source": [
    "@differentiate i = rand(4, 1)\n",
    "@differentiate w = rand(4, 4)\n",
    "@differentiate o = rand(3, 4)"
   ]
  },
  {
   "cell_type": "code",
   "execution_count": 3,
   "metadata": {},
   "outputs": [
    {
     "data": {
      "text/plain": [
       "f (generic function with 1 method)"
      ]
     },
     "execution_count": 3,
     "metadata": {},
     "output_type": "execute_result"
    }
   ],
   "source": [
    "function f(x)\n",
    "    x = w*x\n",
    "    x = o*x\n",
    "    return x\n",
    "end"
   ]
  },
  {
   "cell_type": "code",
   "execution_count": 4,
   "metadata": {},
   "outputs": [
    {
     "data": {
      "text/plain": [
       "BD{Array{Float64,2}}(([1.0661310401603865; 0.7937931864472729; 1.2523936464547323], AutoDiff.var\"#183#184\"{BD{Array{Float64,2}},BD{Array{Float64,2}}}(BD{Array{Float64,2}}(([0.46607997929705025 0.6976984123603667 0.556446348576147 0.95192363240382; 0.09650473102559132 0.009472988042098729 0.9517275362979278 0.21933612027762028; 0.8492937555457114 0.6211585861179731 0.9478589554886907 0.05459688156669151], AutoDiff.var\"#3#4\"{Symbol}(:do))), BD{Array{Float64,2}}(([0.4248962966294898; 0.3028168594667228; 0.726859768459751; 0.26510748158907765], AutoDiff.var\"#183#184\"{BD{Array{Float64,2}},BD{Array{Float64,2}}}(BD{Array{Float64,2}}(([0.9399352318215843 0.41835612597104643 0.6331025831070913 0.13395038140167204; 0.9734723218457844 0.004067156567728825 0.661022766387592 0.1567918384427951; 0.6127742327747123 0.09586255548498857 0.3389761399189648 0.8200437308499129; 0.8443426035246169 0.3252886523757148 0.2698997818604054 0.08567216719115933], AutoDiff.var\"#3#4\"{Symbol}(:dw))), BD{Array{Float64,2}}(([0.025640623981455057; 0.35327499746702706; 0.24642915232410623; 0.7240448107466229], AutoDiff.var\"#3#4\"{Symbol}(:di)))))))))"
      ]
     },
     "execution_count": 4,
     "metadata": {},
     "output_type": "execute_result"
    }
   ],
   "source": [
    "yp = f(i)"
   ]
  },
  {
   "cell_type": "code",
   "execution_count": 5,
   "metadata": {},
   "outputs": [
    {
     "data": {
      "text/plain": [
       "nll"
      ]
     },
     "execution_count": 5,
     "metadata": {},
     "output_type": "execute_result"
    }
   ],
   "source": [
    "function nll_helper(p_y, y)\n",
    "\tba = falses(size(p_y)...)\n",
    "\t[ba[y[p_s],p_s] = true for p_s in 1:size(p_y)[2]]\n",
    "\treturn ba\n",
    "end\n",
    "\n",
    "\"\n",
    "Negative Log Likelihood loss\n",
    "\n",
    "p_y: 2D matrix of outputs\n",
    "\n",
    "y: Array of correct indices\n",
    "\"\n",
    "function nll(p_y, y; average = true)\n",
    "    lp = p_y[nll_helper(p_y, y)]\n",
    "    average ? mean(lp) : sum(lp)\n",
    "end"
   ]
  },
  {
   "cell_type": "code",
   "execution_count": 6,
   "metadata": {},
   "outputs": [
    {
     "data": {
      "text/plain": [
       "BD{Float64}((0.7937931864472729, AutoDiff.var\"#342#343\"{BD{Array}}(BD{Array}(([0.7937931864472729], AutoDiff.var\"#9#10\"{BD{Array{Float64,2}},BitArray{2}}(BD{Array{Float64,2}}(([1.0661310401603865; 0.7937931864472729; 1.2523936464547323], AutoDiff.var\"#183#184\"{BD{Array{Float64,2}},BD{Array{Float64,2}}}(BD{Array{Float64,2}}(([0.46607997929705025 0.6976984123603667 0.556446348576147 0.95192363240382; 0.09650473102559132 0.009472988042098729 0.9517275362979278 0.21933612027762028; 0.8492937555457114 0.6211585861179731 0.9478589554886907 0.05459688156669151], AutoDiff.var\"#3#4\"{Symbol}(:do))), BD{Array{Float64,2}}(([0.4248962966294898; 0.3028168594667228; 0.726859768459751; 0.26510748158907765], AutoDiff.var\"#183#184\"{BD{Array{Float64,2}},BD{Array{Float64,2}}}(BD{Array{Float64,2}}(([0.9399352318215843 0.41835612597104643 0.6331025831070913 0.13395038140167204; 0.9734723218457844 0.004067156567728825 0.661022766387592 0.1567918384427951; 0.6127742327747123 0.09586255548498857 0.3389761399189648 0.8200437308499129; 0.8443426035246169 0.3252886523757148 0.2698997818604054 0.08567216719115933], AutoDiff.var\"#3#4\"{Symbol}(:dw))), BD{Array{Float64,2}}(([0.025640623981455057; 0.35327499746702706; 0.24642915232410623; 0.7240448107466229], AutoDiff.var\"#3#4\"{Symbol}(:di))))))))), Bool[0; 1; 0]))))))"
      ]
     },
     "execution_count": 6,
     "metadata": {},
     "output_type": "execute_result"
    }
   ],
   "source": [
    "lossf = nll(yp, [2], average = false)"
   ]
  },
  {
   "cell_type": "code",
   "execution_count": 7,
   "metadata": {},
   "outputs": [],
   "source": [
    "_rest = lossf.f[2](lossf.f[1]);"
   ]
  },
  {
   "cell_type": "code",
   "execution_count": 8,
   "metadata": {},
   "outputs": [
    {
     "data": {
      "text/plain": [
       "Dict{Symbol,Array{Float64,2}} with 3 entries:\n",
       "  :do => [0.0 0.0 0.0 0.0; 0.33728 0.240374 0.576976 0.210441; 0.0 0.0 0.0 0.0]\n",
       "  :di => [0.689266; 0.161136; 0.356549; 0.645879]\n",
       "  :dw => [0.00196419 0.0270626 0.0188777 0.0554653; 0.000192807 0.00265648 0.00…"
      ]
     },
     "execution_count": 8,
     "metadata": {},
     "output_type": "execute_result"
    }
   ],
   "source": [
    "grads = params(_rest)"
   ]
  },
  {
   "cell_type": "code",
   "execution_count": 9,
   "metadata": {},
   "outputs": [
    {
     "data": {
      "text/plain": [
       "3×4 Array{Float64,2}:\n",
       " 0.0      0.0       0.0       0.0\n",
       " 0.33728  0.240374  0.576976  0.210441\n",
       " 0.0      0.0       0.0       0.0"
      ]
     },
     "execution_count": 9,
     "metadata": {},
     "output_type": "execute_result"
    }
   ],
   "source": [
    "_do = grads[:do]"
   ]
  },
  {
   "cell_type": "code",
   "execution_count": 10,
   "metadata": {},
   "outputs": [
    {
     "data": {
      "text/plain": [
       "4×4 Array{Float64,2}:\n",
       " 0.00196419   0.0270626   0.0188777   0.0554653\n",
       " 0.000192807  0.00265648  0.00185305  0.00544452\n",
       " 0.0193708    0.26689     0.186171    0.546998\n",
       " 0.00446423   0.0615078   0.0429052   0.126062"
      ]
     },
     "execution_count": 10,
     "metadata": {},
     "output_type": "execute_result"
    }
   ],
   "source": [
    "_dw = grads[:dw]"
   ]
  },
  {
   "cell_type": "code",
   "execution_count": 11,
   "metadata": {},
   "outputs": [
    {
     "data": {
      "text/plain": [
       "4×1 Array{Float64,2}:\n",
       " 0.6892655709974872\n",
       " 0.16113561786338643\n",
       " 0.3565488418682202\n",
       " 0.6458788223097885"
      ]
     },
     "execution_count": 11,
     "metadata": {},
     "output_type": "execute_result"
    }
   ],
   "source": [
    "_di = grads[:di]"
   ]
  },
  {
   "cell_type": "code",
   "execution_count": null,
   "metadata": {},
   "outputs": [],
   "source": []
  }
 ],
 "metadata": {
  "kernelspec": {
   "display_name": "Julia 1.4.1",
   "language": "julia",
   "name": "julia-1.4"
  },
  "language_info": {
   "file_extension": ".jl",
   "mimetype": "application/julia",
   "name": "julia",
   "version": "1.4.1"
  }
 },
 "nbformat": 4,
 "nbformat_minor": 4
}
