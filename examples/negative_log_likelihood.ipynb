{
 "cells": [
  {
   "cell_type": "code",
   "execution_count": 1,
   "metadata": {},
   "outputs": [],
   "source": [
    "using Statistics\n",
    "using AutoDiff"
   ]
  },
  {
   "cell_type": "code",
   "execution_count": 2,
   "metadata": {},
   "outputs": [
    {
     "data": {
      "text/plain": [
       "BD{Array{Float64,2}}(([0.939194815247332 0.06852220666128361 0.9370218038800429 0.9507815913501345; 0.7541732125593283 0.8247861324892496 0.19454319374524753 0.7887522679753949; 0.41690374907971317 0.1885180187536104 0.13059225411284348 0.44505792173704384], getfield(AutoDiff, Symbol(\"##3#4\")){Symbol}(:do)))"
      ]
     },
     "execution_count": 2,
     "metadata": {},
     "output_type": "execute_result"
    }
   ],
   "source": [
    "@differentiate i = rand(4, 1)\n",
    "@differentiate w = rand(4, 4)\n",
    "@differentiate o = rand(3, 4)"
   ]
  },
  {
   "cell_type": "code",
   "execution_count": 3,
   "metadata": {},
   "outputs": [
    {
     "data": {
      "text/plain": [
       "f (generic function with 1 method)"
      ]
     },
     "execution_count": 3,
     "metadata": {},
     "output_type": "execute_result"
    }
   ],
   "source": [
    "function f(x)\n",
    "    x = w*x\n",
    "    x = o*x\n",
    "    return x\n",
    "end"
   ]
  },
  {
   "cell_type": "code",
   "execution_count": 4,
   "metadata": {},
   "outputs": [
    {
     "data": {
      "text/plain": [
       "BD{Array{Float64,2}}(([2.8175663246182383; 1.957172515028613; 1.026216204339115], getfield(AutoDiff, Symbol(\"##13#14\")){BD{Array{Float64,2}},BD{Array{Float64,2}}}(BD{Array{Float64,2}}(([0.939194815247332 0.06852220666128361 0.9370218038800429 0.9507815913501345; 0.7541732125593283 0.8247861324892496 0.19454319374524753 0.7887522679753949; 0.41690374907971317 0.1885180187536104 0.13059225411284348 0.44505792173704384], getfield(AutoDiff, Symbol(\"##3#4\")){Symbol}(:do))), BD{Array{Float64,2}}(([0.5487143899811234; 0.3467050896269806; 1.0857729222788237; 1.3263474239818518], getfield(AutoDiff, Symbol(\"##13#14\")){BD{Array{Float64,2}},BD{Array{Float64,2}}}(BD{Array{Float64,2}}(([0.2955652674638467 0.044925459656513844 0.867054163772923 0.7641311739867462; 0.07934707673315367 0.04915378785993818 0.8226039310724214 0.9698314281073173; 0.7872188091451073 0.4057964651470307 0.6141139669482656 0.9938367459469333; 0.9138290819557495 0.8866298805169452 0.5535335936002763 0.23248268495763713], getfield(AutoDiff, Symbol(\"##3#4\")){Symbol}(:dw))), BD{Array{Float64,2}}(([0.9347692423685723; 0.3618116326381211; 0.2533172529059493; 0.04781212610382202], getfield(AutoDiff, Symbol(\"##3#4\")){Symbol}(:di)))))))))"
      ]
     },
     "execution_count": 4,
     "metadata": {},
     "output_type": "execute_result"
    }
   ],
   "source": [
    "yp = f(i)"
   ]
  },
  {
   "cell_type": "code",
   "execution_count": 5,
   "metadata": {},
   "outputs": [
    {
     "data": {
      "text/plain": [
       "nll"
      ]
     },
     "execution_count": 5,
     "metadata": {},
     "output_type": "execute_result"
    }
   ],
   "source": [
    "function nll_helper(p_y, y)\n",
    "\tba = falses(size(p_y)...)\n",
    "\t[ba[y[p_s],p_s] = true for p_s in 1:size(p_y)[2]]\n",
    "\treturn ba\n",
    "end\n",
    "\n",
    "\"\n",
    "Negative Log Likelihood loss\n",
    "\n",
    "p_y: 2D matrix of outputs\n",
    "\n",
    "y: Array of correct indices\n",
    "\"\n",
    "function nll(p_y, y; average = true)\n",
    "    lp = p_y[nll_helper(p_y, y)]\n",
    "    average ? mean(lp) : sum(lp)\n",
    "end"
   ]
  },
  {
   "cell_type": "code",
   "execution_count": 6,
   "metadata": {},
   "outputs": [
    {
     "data": {
      "text/plain": [
       "BD{Float64}((1.957172515028613, getfield(AutoDiff, Symbol(\"##39#41\")){BD{Array}}(BD{Array}(([1.957172515028613], getfield(AutoDiff, Symbol(\"##7#8\")){BD{Array{Float64,2}},BitArray{2}}(BD{Array{Float64,2}}(([2.8175663246182383; 1.957172515028613; 1.026216204339115], getfield(AutoDiff, Symbol(\"##13#14\")){BD{Array{Float64,2}},BD{Array{Float64,2}}}(BD{Array{Float64,2}}(([0.939194815247332 0.06852220666128361 0.9370218038800429 0.9507815913501345; 0.7541732125593283 0.8247861324892496 0.19454319374524753 0.7887522679753949; 0.41690374907971317 0.1885180187536104 0.13059225411284348 0.44505792173704384], getfield(AutoDiff, Symbol(\"##3#4\")){Symbol}(:do))), BD{Array{Float64,2}}(([0.5487143899811234; 0.3467050896269806; 1.0857729222788237; 1.3263474239818518], getfield(AutoDiff, Symbol(\"##13#14\")){BD{Array{Float64,2}},BD{Array{Float64,2}}}(BD{Array{Float64,2}}(([0.2955652674638467 0.044925459656513844 0.867054163772923 0.7641311739867462; 0.07934707673315367 0.04915378785993818 0.8226039310724214 0.9698314281073173; 0.7872188091451073 0.4057964651470307 0.6141139669482656 0.9938367459469333; 0.9138290819557495 0.8866298805169452 0.5535335936002763 0.23248268495763713], getfield(AutoDiff, Symbol(\"##3#4\")){Symbol}(:dw))), BD{Array{Float64,2}}(([0.9347692423685723; 0.3618116326381211; 0.2533172529059493; 0.04781212610382202], getfield(AutoDiff, Symbol(\"##3#4\")){Symbol}(:di))))))))), Bool[0; 1; 0]))))))"
      ]
     },
     "execution_count": 6,
     "metadata": {},
     "output_type": "execute_result"
    }
   ],
   "source": [
    "lossf = nll(yp, [2], average = false)"
   ]
  },
  {
   "cell_type": "code",
   "execution_count": 7,
   "metadata": {},
   "outputs": [],
   "source": [
    "_rest = lossf.f[2](lossf.f[1]);"
   ]
  },
  {
   "cell_type": "code",
   "execution_count": 8,
   "metadata": {},
   "outputs": [
    {
     "data": {
      "text/plain": [
       "Dict{Symbol,Array{Float64,2}} with 3 entries:\n",
       "  :do => [0.0 0.0 0.0 0.0; 1.07393 0.678562 2.12504 2.59589; 0.0 0.0 0.0 0.0]\n",
       "  :di => [2.27479; 1.66888; 3.69603; 3.43074]\n",
       "  :dw => [1.37976 0.534051 0.373908 0.0705729; 1.50895 0.584054 0.408917 0.0771…"
      ]
     },
     "execution_count": 8,
     "metadata": {},
     "output_type": "execute_result"
    }
   ],
   "source": [
    "grads = params(_rest)"
   ]
  },
  {
   "cell_type": "code",
   "execution_count": 9,
   "metadata": {},
   "outputs": [
    {
     "data": {
      "text/plain": [
       "3×4 Array{Float64,2}:\n",
       " 0.0      0.0       0.0      0.0    \n",
       " 1.07393  0.678562  2.12504  2.59589\n",
       " 0.0      0.0       0.0      0.0    "
      ]
     },
     "execution_count": 9,
     "metadata": {},
     "output_type": "execute_result"
    }
   ],
   "source": [
    "_do = grads[:do]"
   ]
  },
  {
   "cell_type": "code",
   "execution_count": 10,
   "metadata": {},
   "outputs": [
    {
     "data": {
      "text/plain": [
       "4×4 Array{Float64,2}:\n",
       " 1.37976   0.534051  0.373908   0.0705729\n",
       " 1.50895   0.584054  0.408917   0.0771807\n",
       " 0.355918  0.137761  0.0964517  0.0182047\n",
       " 1.44303   0.558537  0.391052   0.0738087"
      ]
     },
     "execution_count": 10,
     "metadata": {},
     "output_type": "execute_result"
    }
   ],
   "source": [
    "_dw = grads[:dw]"
   ]
  },
  {
   "cell_type": "code",
   "execution_count": 11,
   "metadata": {},
   "outputs": [
    {
     "data": {
      "text/plain": [
       "4×1 Array{Float64,2}:\n",
       " 2.274791469981964 \n",
       " 1.6688794579344508\n",
       " 3.6960300862833453\n",
       " 3.4307398256916466"
      ]
     },
     "execution_count": 11,
     "metadata": {},
     "output_type": "execute_result"
    }
   ],
   "source": [
    "_di = grads[:di]"
   ]
  },
  {
   "cell_type": "code",
   "execution_count": null,
   "metadata": {},
   "outputs": [],
   "source": []
  }
 ],
 "metadata": {
  "kernelspec": {
   "display_name": "Julia 1.2 (4 threads) 1.2.0",
   "language": "julia",
   "name": "julia-1.2-(4-threads)-1.2"
  },
  "language_info": {
   "file_extension": ".jl",
   "mimetype": "application/julia",
   "name": "julia",
   "version": "1.2.0"
  }
 },
 "nbformat": 4,
 "nbformat_minor": 2
}
