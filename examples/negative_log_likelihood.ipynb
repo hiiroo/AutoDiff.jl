{
 "cells": [
  {
   "cell_type": "code",
   "execution_count": 1,
   "metadata": {},
   "outputs": [],
   "source": [
    "using Statistics\n",
    "using AutoDiff"
   ]
  },
  {
   "cell_type": "code",
   "execution_count": 2,
   "metadata": {},
   "outputs": [
    {
     "data": {
      "text/plain": [
       "BD{Array{Float64,2}}(([0.16279734780050337 0.5875487534253183 0.058304360956396906 0.8441693035718314; 0.9941513209786614 0.4572505403311655 0.9511090242618785 0.6754379697021429; 0.9476337223866858 0.27061230348867427 0.7974684290408081 0.8457814931887049], AutoDiff.var\"#3#4\"{Symbol}(:do)))"
      ]
     },
     "execution_count": 2,
     "metadata": {},
     "output_type": "execute_result"
    }
   ],
   "source": [
    "@differentiate i = rand(4, 1)\n",
    "@differentiate w = rand(4, 4)\n",
    "@differentiate o = rand(3, 4)"
   ]
  },
  {
   "cell_type": "code",
   "execution_count": 3,
   "metadata": {},
   "outputs": [
    {
     "data": {
      "text/plain": [
       "f (generic function with 1 method)"
      ]
     },
     "execution_count": 3,
     "metadata": {},
     "output_type": "execute_result"
    }
   ],
   "source": [
    "function f(x)\n",
    "    x = w*x\n",
    "    x = o*x\n",
    "    return x\n",
    "end"
   ]
  },
  {
   "cell_type": "code",
   "execution_count": 4,
   "metadata": {},
   "outputs": [
    {
     "data": {
      "text/plain": [
       "BD{Array{Float64,2}}(([1.0105183751516422; 1.8501355116475302; 1.7368010464684955], AutoDiff.var\"#13#14\"{BD{Array{Float64,2}},BD{Array{Float64,2}}}(BD{Array{Float64,2}}(([0.16279734780050337 0.5875487534253183 0.058304360956396906 0.8441693035718314; 0.9941513209786614 0.4572505403311655 0.9511090242618785 0.6754379697021429; 0.9476337223866858 0.27061230348867427 0.7974684290408081 0.8457814931887049], AutoDiff.var\"#3#4\"{Symbol}(:do))), BD{Array{Float64,2}}(([0.7915418542478807; 0.614500788037903; 0.4043220031270799; 0.5887853899691354], AutoDiff.var\"#13#14\"{BD{Array{Float64,2}},BD{Array{Float64,2}}}(BD{Array{Float64,2}}(([0.9726402776729866 0.07484892458152292 0.8805451189222706 0.9786866613366778; 0.9215781848238895 0.29023044294800715 0.5530297900380434 0.09500232083795623; 0.4226438737339475 0.6816266056249596 0.33923226412184526 0.8351113212305958; 0.6513574948947389 0.39814954237117606 0.6680846763605286 0.9594395521666146], AutoDiff.var\"#3#4\"{Symbol}(:dw))), BD{Array{Float64,2}}(([0.5473150803575302; 0.0307943433016864; 0.16304518467418938; 0.11579558809105972], AutoDiff.var\"#3#4\"{Symbol}(:di)))))))))"
      ]
     },
     "execution_count": 4,
     "metadata": {},
     "output_type": "execute_result"
    }
   ],
   "source": [
    "yp = f(i)"
   ]
  },
  {
   "cell_type": "code",
   "execution_count": 5,
   "metadata": {},
   "outputs": [
    {
     "data": {
      "text/plain": [
       "nll"
      ]
     },
     "execution_count": 5,
     "metadata": {},
     "output_type": "execute_result"
    }
   ],
   "source": [
    "function nll_helper(p_y, y)\n",
    "\tba = falses(size(p_y)...)\n",
    "\t[ba[y[p_s],p_s] = true for p_s in 1:size(p_y)[2]]\n",
    "\treturn ba\n",
    "end\n",
    "\n",
    "\"\n",
    "Negative Log Likelihood loss\n",
    "\n",
    "p_y: 2D matrix of outputs\n",
    "\n",
    "y: Array of correct indices\n",
    "\"\n",
    "function nll(p_y, y; average = true)\n",
    "    lp = p_y[nll_helper(p_y, y)]\n",
    "    average ? mean(lp) : sum(lp)\n",
    "end"
   ]
  },
  {
   "cell_type": "code",
   "execution_count": 6,
   "metadata": {},
   "outputs": [
    {
     "data": {
      "text/plain": [
       "BD{Float64}((1.8501355116475302, AutoDiff.var\"#38#39\"{BD{Array}}(BD{Array}(([1.8501355116475302], AutoDiff.var\"#7#8\"{BD{Array{Float64,2}},BitArray{2}}(BD{Array{Float64,2}}(([1.0105183751516422; 1.8501355116475302; 1.7368010464684955], AutoDiff.var\"#13#14\"{BD{Array{Float64,2}},BD{Array{Float64,2}}}(BD{Array{Float64,2}}(([0.16279734780050337 0.5875487534253183 0.058304360956396906 0.8441693035718314; 0.9941513209786614 0.4572505403311655 0.9511090242618785 0.6754379697021429; 0.9476337223866858 0.27061230348867427 0.7974684290408081 0.8457814931887049], AutoDiff.var\"#3#4\"{Symbol}(:do))), BD{Array{Float64,2}}(([0.7915418542478807; 0.614500788037903; 0.4043220031270799; 0.5887853899691354], AutoDiff.var\"#13#14\"{BD{Array{Float64,2}},BD{Array{Float64,2}}}(BD{Array{Float64,2}}(([0.9726402776729866 0.07484892458152292 0.8805451189222706 0.9786866613366778; 0.9215781848238895 0.29023044294800715 0.5530297900380434 0.09500232083795623; 0.4226438737339475 0.6816266056249596 0.33923226412184526 0.8351113212305958; 0.6513574948947389 0.39814954237117606 0.6680846763605286 0.9594395521666146], AutoDiff.var\"#3#4\"{Symbol}(:dw))), BD{Array{Float64,2}}(([0.5473150803575302; 0.0307943433016864; 0.16304518467418938; 0.11579558809105972], AutoDiff.var\"#3#4\"{Symbol}(:di))))))))), Bool[0; 1; 0]))))))"
      ]
     },
     "execution_count": 6,
     "metadata": {},
     "output_type": "execute_result"
    }
   ],
   "source": [
    "lossf = nll(yp, [2], average = false)"
   ]
  },
  {
   "cell_type": "code",
   "execution_count": 7,
   "metadata": {},
   "outputs": [],
   "source": [
    "_rest = lossf.f[2](lossf.f[1]);"
   ]
  },
  {
   "cell_type": "code",
   "execution_count": 8,
   "metadata": {},
   "outputs": [
    {
     "data": {
      "text/plain": [
       "Dict{Symbol,Array{Float64,2}} with 3 entries:\n",
       "  :do => [0.0 0.0 0.0 0.0; 1.46446 1.13691 0.74805 1.08933; 0.0 0.0 0.0 0.0]\n",
       "  :di => [4.12631; 2.08019; 3.51926; 4.54898]\n",
       "  :dw => [1.00668 0.0566405 0.299891 0.212985; 0.463015 0.0260513 0.137932 0.09…"
      ]
     },
     "execution_count": 8,
     "metadata": {},
     "output_type": "execute_result"
    }
   ],
   "source": [
    "grads = params(_rest)"
   ]
  },
  {
   "cell_type": "code",
   "execution_count": 9,
   "metadata": {},
   "outputs": [
    {
     "data": {
      "text/plain": [
       "3×4 Array{Float64,2}:\n",
       " 0.0      0.0      0.0      0.0\n",
       " 1.46446  1.13691  0.74805  1.08933\n",
       " 0.0      0.0      0.0      0.0"
      ]
     },
     "execution_count": 9,
     "metadata": {},
     "output_type": "execute_result"
    }
   ],
   "source": [
    "_do = grads[:do]"
   ]
  },
  {
   "cell_type": "code",
   "execution_count": 10,
   "metadata": {},
   "outputs": [
    {
     "data": {
      "text/plain": [
       "4×4 Array{Float64,2}:\n",
       " 1.00668   0.0566405  0.299891  0.212985\n",
       " 0.463015  0.0260513  0.137932  0.0979602\n",
       " 0.9631    0.0541882  0.286907  0.203763\n",
       " 0.683953  0.0384822  0.20375   0.144704"
      ]
     },
     "execution_count": 10,
     "metadata": {},
     "output_type": "execute_result"
    }
   ],
   "source": [
    "_dw = grads[:dw]"
   ]
  },
  {
   "cell_type": "code",
   "execution_count": 11,
   "metadata": {},
   "outputs": [
    {
     "data": {
      "text/plain": [
       "4×1 Array{Float64,2}:\n",
       " 4.126312321647367\n",
       " 2.080191941034346\n",
       " 3.5192628093878713\n",
       " 4.548976872098781"
      ]
     },
     "execution_count": 11,
     "metadata": {},
     "output_type": "execute_result"
    }
   ],
   "source": [
    "_di = grads[:di]"
   ]
  },
  {
   "cell_type": "code",
   "execution_count": null,
   "metadata": {},
   "outputs": [],
   "source": []
  }
 ],
 "metadata": {
  "kernelspec": {
   "display_name": "Julia 1.4.1",
   "language": "julia",
   "name": "julia-1.4"
  },
  "language_info": {
   "file_extension": ".jl",
   "mimetype": "application/julia",
   "name": "julia",
   "version": "1.4.1"
  }
 },
 "nbformat": 4,
 "nbformat_minor": 4
}
