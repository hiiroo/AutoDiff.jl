{
 "cells": [
  {
   "cell_type": "code",
   "execution_count": 1,
   "metadata": {
    "tags": []
   },
   "outputs": [
    {
     "name": "stderr",
     "output_type": "stream",
     "text": [
      "┌ Info: Precompiling AutoDiff [87d66b72-4fb9-4d22-ac15-1dba862bf296]\n",
      "└ @ Base loading.jl:1260\n"
     ]
    }
   ],
   "source": [
    "using AutoDiff"
   ]
  },
  {
   "cell_type": "code",
   "execution_count": 2,
   "metadata": {},
   "outputs": [
    {
     "data": {
      "text/plain": [
       "BD{Array{Float64,2}}(([0.17616217046024785 0.9385035338373291 0.4114748400391739 0.4962612365080352; 0.6422925039778964 0.8563243691981783 0.3231345601757185 0.9875849423341427; 0.4709626190712122 0.6780556857548163 0.9852278568715138 0.5713118161716515], AutoDiff.var\"#3#4\"{Symbol}(:do)))"
      ]
     },
     "execution_count": 2,
     "metadata": {},
     "output_type": "execute_result"
    }
   ],
   "source": [
    "@differentiate i = rand(4, 1)\n",
    "@differentiate w = rand(4, 4)\n",
    "@differentiate o = rand(3, 4)"
   ]
  },
  {
   "cell_type": "code",
   "execution_count": 15,
   "metadata": {},
   "outputs": [
    {
     "data": {
      "text/plain": [
       "f (generic function with 1 method)"
      ]
     },
     "execution_count": 15,
     "metadata": {},
     "output_type": "execute_result"
    }
   ],
   "source": [
    "function f(x)\n",
    "    x = w*x\n",
    "    x = o*x\n",
    "    return x\n",
    "end"
   ]
  },
  {
   "cell_type": "code",
   "execution_count": 16,
   "metadata": {},
   "outputs": [
    {
     "data": {
      "text/plain": [
       "BD{Float64}((0.4502394455062017, AutoDiff.var\"#38#39\"{BD{Array{Float64,2}}}(BD{Array{Float64,2}}(([0.2338915517887613; 0.0723825928423718; 0.1439653008750686], AutoDiff.var\"#45#46\"{BD{Array{Float64,2}}}(BD{Array{Float64,2}}(([0.4836233573647589; 0.26904013240104496; 0.3794275963541247], AutoDiff.var\"#23#24\"{BD{Float64},BD{Array{Float64,2}}}(BD{Float64}((1.0, AutoDiff.var\"#1#2\"())), BD{Array{Float64,2}}(([0.5163766426352411; 0.730959867598955; 0.6205724036458753], AutoDiff.var\"#13#14\"{BD{Array{Float64,2}},BD{Array{Float64,2}}}(BD{Array{Float64,2}}(([0.17616217046024785 0.9385035338373291 0.4114748400391739 0.4962612365080352; 0.6422925039778964 0.8563243691981783 0.3231345601757185 0.9875849423341427; 0.4709626190712122 0.6780556857548163 0.9852278568715138 0.5713118161716515], AutoDiff.var\"#3#4\"{Symbol}(:do))), BD{Array{Float64,2}}(([0.4953458972950836; 0.3886335486292349; 0.09706234216246626; 0.049253824336041176], AutoDiff.var\"#13#14\"{BD{Array{Float64,2}},BD{Array{Float64,2}}}(BD{Array{Float64,2}}(([0.8776135010845261 0.6488223546084495 0.816546325530729 0.5255909353529311; 0.7772579240712765 0.5507034598223419 0.19000534710257644 0.20230443664856823; 0.5286037830638162 0.10063404418672373 0.23945503315330896 0.2119963728485028; 0.7979675012408267 0.001966458806580196 0.49363305915968536 0.31276301392665085], AutoDiff.var\"#3#4\"{Symbol}(:dw))), BD{Array{Float64,2}}(([0.009205804265013606; 0.6458195852950654; 0.0035781967095558365; 0.12428450993221873], AutoDiff.var\"#3#4\"{Symbol}(:di))))))))))))))))))"
      ]
     },
     "execution_count": 16,
     "metadata": {},
     "output_type": "execute_result"
    }
   ],
   "source": [
    "y = sum(abs2.(BD{Float64}(1.0) .-f(i)))"
   ]
  },
  {
   "cell_type": "code",
   "execution_count": 17,
   "metadata": {},
   "outputs": [
    {
     "data": {
      "text/plain": [
       "BD{Float64}((0.4502394455062017, AutoDiff.var\"#38#39\"{BD{Array{Float64,2}}}(BD{Array{Float64,2}}(([0.2338915517887613; 0.0723825928423718; 0.1439653008750686], AutoDiff.var\"#45#46\"{BD{Array{Float64,2}}}(BD{Array{Float64,2}}(([0.4836233573647589; 0.26904013240104496; 0.3794275963541247], AutoDiff.var\"#23#24\"{BD{Float64},BD{Array{Float64,2}}}(BD{Float64}((1.0, AutoDiff.var\"#1#2\"())), BD{Array{Float64,2}}(([0.5163766426352411; 0.730959867598955; 0.6205724036458753], AutoDiff.var\"#13#14\"{BD{Array{Float64,2}},BD{Array{Float64,2}}}(BD{Array{Float64,2}}(([0.17616217046024785 0.9385035338373291 0.4114748400391739 0.4962612365080352; 0.6422925039778964 0.8563243691981783 0.3231345601757185 0.9875849423341427; 0.4709626190712122 0.6780556857548163 0.9852278568715138 0.5713118161716515], AutoDiff.var\"#3#4\"{Symbol}(:do))), BD{Array{Float64,2}}(([0.4953458972950836; 0.3886335486292349; 0.09706234216246626; 0.049253824336041176], AutoDiff.var\"#13#14\"{BD{Array{Float64,2}},BD{Array{Float64,2}}}(BD{Array{Float64,2}}(([0.8776135010845261 0.6488223546084495 0.816546325530729 0.5255909353529311; 0.7772579240712765 0.5507034598223419 0.19000534710257644 0.20230443664856823; 0.5286037830638162 0.10063404418672373 0.23945503315330896 0.2119963728485028; 0.7979675012408267 0.001966458806580196 0.49363305915968536 0.31276301392665085], AutoDiff.var\"#3#4\"{Symbol}(:dw))), BD{Array{Float64,2}}(([0.009205804265013606; 0.6458195852950654; 0.0035781967095558365; 0.12428450993221873], AutoDiff.var\"#3#4\"{Symbol}(:di))))))))))))))))))"
      ]
     },
     "execution_count": 17,
     "metadata": {},
     "output_type": "execute_result"
    }
   ],
   "source": [
    "y = sum(abs2.(1.0 .-f(i)))"
   ]
  },
  {
   "cell_type": "code",
   "execution_count": 18,
   "metadata": {},
   "outputs": [
    {
     "data": {
      "text/plain": [
       "(1.0194241257543006, (:do => [-0.21571948485206513 -0.16924704406421381 -0.0422699341291787 -0.021449677227134603; -0.12000495402522905 -0.0941522911375405 -0.02351480444754543 -0.011932475785687695; -0.16924311941872597 -0.1327830803483949 -0.03316295472591282 -0.01682838380100237], (:dw => [-0.0036200394953694328 -0.2539585177295522 -0.0014070702610983583 -0.04887295250531827; -0.007805027887513601 -0.5475501899043478 -0.0030337300578105906 -0.10537309267953403; -0.005469148369092833 -0.3836800164292323 -0.002125798912837489 -0.0738371580832532; -0.005989051998227247 -0.42015308673304574 -0.002327879839337847 -0.0808562045346886], :di => [-1.8372752882557861; -0.7831122567864139; -0.9455921388213768; -0.7076237009839268])))"
      ]
     },
     "execution_count": 18,
     "metadata": {},
     "output_type": "execute_result"
    }
   ],
   "source": [
    "_dy, _rest = y.f[2](y.f[1])"
   ]
  },
  {
   "cell_type": "code",
   "execution_count": 19,
   "metadata": {},
   "outputs": [
    {
     "data": {
      "text/plain": [
       "Dict{Symbol,Array{Float64,2}} with 3 entries:\n",
       "  :do => [-0.215719 -0.169247 -0.0422699 -0.0214497; -0.120005 -0.0941523 -0.02…\n",
       "  :di => [-1.83728; -0.783112; -0.945592; -0.707624]\n",
       "  :dw => [-0.00362004 -0.253959 -0.00140707 -0.048873; -0.00780503 -0.54755 -0.…"
      ]
     },
     "execution_count": 19,
     "metadata": {},
     "output_type": "execute_result"
    }
   ],
   "source": [
    "grads = params(_rest)"
   ]
  },
  {
   "cell_type": "code",
   "execution_count": 20,
   "metadata": {},
   "outputs": [
    {
     "data": {
      "text/plain": [
       "1.0194241257543006"
      ]
     },
     "execution_count": 20,
     "metadata": {},
     "output_type": "execute_result"
    }
   ],
   "source": [
    "_dy"
   ]
  },
  {
   "cell_type": "code",
   "execution_count": 21,
   "metadata": {},
   "outputs": [
    {
     "data": {
      "text/plain": [
       "3×4 Array{Float64,2}:\n",
       " -0.215719  -0.169247   -0.0422699  -0.0214497\n",
       " -0.120005  -0.0941523  -0.0235148  -0.0119325\n",
       " -0.169243  -0.132783   -0.033163   -0.0168284"
      ]
     },
     "execution_count": 21,
     "metadata": {},
     "output_type": "execute_result"
    }
   ],
   "source": [
    "_do = grads[:do]"
   ]
  },
  {
   "cell_type": "code",
   "execution_count": 22,
   "metadata": {},
   "outputs": [
    {
     "data": {
      "text/plain": [
       "4×4 Array{Float64,2}:\n",
       " -0.00362004  -0.253959  -0.00140707  -0.048873\n",
       " -0.00780503  -0.54755   -0.00303373  -0.105373\n",
       " -0.00546915  -0.38368   -0.0021258   -0.0738372\n",
       " -0.00598905  -0.420153  -0.00232788  -0.0808562"
      ]
     },
     "execution_count": 22,
     "metadata": {},
     "output_type": "execute_result"
    }
   ],
   "source": [
    "_dw = grads[:dw]"
   ]
  },
  {
   "cell_type": "code",
   "execution_count": 23,
   "metadata": {},
   "outputs": [
    {
     "data": {
      "text/plain": [
       "4×1 Array{Float64,2}:\n",
       " -1.8372752882557861\n",
       " -0.7831122567864139\n",
       " -0.9455921388213768\n",
       " -0.7076237009839268"
      ]
     },
     "execution_count": 23,
     "metadata": {},
     "output_type": "execute_result"
    }
   ],
   "source": [
    "_di = grads[:di]"
   ]
  },
  {
   "cell_type": "code",
   "execution_count": null,
   "metadata": {},
   "outputs": [],
   "source": []
  }
 ],
 "metadata": {
  "kernelspec": {
   "display_name": "Julia 1.4.1",
   "language": "julia",
   "name": "julia-1.4"
  },
  "language_info": {
   "file_extension": ".jl",
   "mimetype": "application/julia",
   "name": "julia",
   "version": "1.4.1"
  }
 },
 "nbformat": 4,
 "nbformat_minor": 4
}
