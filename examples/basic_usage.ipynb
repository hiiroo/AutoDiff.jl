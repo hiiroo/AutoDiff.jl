{
 "cells": [
  {
   "cell_type": "code",
   "execution_count": 1,
   "metadata": {},
   "outputs": [
    {
     "name": "stderr",
     "output_type": "stream",
     "text": [
      "┌ Info: Recompiling stale cache file /Users/aliceylan/.julia/compiled/v1.2/AutoDiff/VOHgY.ji for AutoDiff [87d66b72-4fb9-4d22-ac15-1dba862bf296]\n",
      "└ @ Base loading.jl:1240\n"
     ]
    }
   ],
   "source": [
    "using AutoDiff"
   ]
  },
  {
   "cell_type": "code",
   "execution_count": 2,
   "metadata": {},
   "outputs": [
    {
     "data": {
      "text/plain": [
       "BD{Array{Float64,2}}(([0.610045503756941 0.6480133511928838 0.6029371946669708 0.0737010522202266; 0.048442060764875894 0.7480508252743756 0.19400563158731887 0.43996600930998; 0.6283926124761647 0.7285645962300318 0.6495819359339081 0.1578976456756973], getfield(AutoDiff, Symbol(\"##3#4\")){Symbol}(:do)))"
      ]
     },
     "execution_count": 2,
     "metadata": {},
     "output_type": "execute_result"
    }
   ],
   "source": [
    "@differentiate i = rand(4, 1)\n",
    "@differentiate w = rand(4, 4)\n",
    "@differentiate o = rand(3, 4)"
   ]
  },
  {
   "cell_type": "code",
   "execution_count": 3,
   "metadata": {},
   "outputs": [
    {
     "data": {
      "text/plain": [
       "f (generic function with 1 method)"
      ]
     },
     "execution_count": 3,
     "metadata": {},
     "output_type": "execute_result"
    }
   ],
   "source": [
    "function f(x)\n",
    "    x = w*x\n",
    "    x = o*x\n",
    "    return x\n",
    "end"
   ]
  },
  {
   "cell_type": "code",
   "execution_count": 4,
   "metadata": {},
   "outputs": [
    {
     "data": {
      "text/plain": [
       "BD{Float64}((2.5952245556175058, getfield(AutoDiff, Symbol(\"##35#37\")){BD{Array{Float64,2}}}(BD{Array{Float64,2}}(([1.0137225461856665; 0.12775765168363115; 1.4537443577482083], getfield(AutoDiff, Symbol(\"##40#41\")){BD{Array{Float64,2}}}(BD{Array{Float64,2}}(([-1.006837894690931; -0.3574320238641624; -1.2057132153825836], getfield(AutoDiff, Symbol(\"##19#20\")){BD{Int64},BD{Array{Float64,2}}}(BD{Int64}((1, getfield(AutoDiff, Symbol(\"##1#2\"))())), BD{Array{Float64,2}}(([2.006837894690931; 1.3574320238641624; 2.2057132153825836], getfield(AutoDiff, Symbol(\"##9#10\")){BD{Array{Float64,2}},BD{Array{Float64,2}}}(BD{Array{Float64,2}}(([0.610045503756941 0.6480133511928838 0.6029371946669708 0.0737010522202266; 0.048442060764875894 0.7480508252743756 0.19400563158731887 0.43996600930998; 0.6283926124761647 0.7285645962300318 0.6495819359339081 0.1578976456756973], getfield(AutoDiff, Symbol(\"##3#4\")){Symbol}(:do))), BD{Array{Float64,2}}(([1.273031746935657; 1.252814426918831; 0.6281485671169648; 0.538065469030877], getfield(AutoDiff, Symbol(\"##9#10\")){BD{Array{Float64,2}},BD{Array{Float64,2}}}(BD{Array{Float64,2}}(([0.8814258610253942 0.9860868247265147 0.8864900689705713 0.42219265815646345; 0.6629892955647365 0.6753477143671245 0.3773289814988343 0.6994038306764232; 0.08411531498478242 0.30590516990953587 0.46074251595359783 0.5514378118356724; 0.28785911368407113 0.9446069684550797 0.8319875928938931 0.049031428596543414], getfield(AutoDiff, Symbol(\"##3#4\")){Symbol}(:dw))), BD{Array{Float64,2}}(([0.6820880466726786; 0.2897287059071618; 0.03181995995945641; 0.8477550664327385], getfield(AutoDiff, Symbol(\"##3#4\")){Symbol}(:di))))))))))))))))))"
      ]
     },
     "execution_count": 4,
     "metadata": {},
     "output_type": "execute_result"
    }
   ],
   "source": [
    "y = sum(abs2.(BD{Int}(1).-f(i)))"
   ]
  },
  {
   "cell_type": "code",
   "execution_count": 5,
   "metadata": {},
   "outputs": [
    {
     "data": {
      "text/plain": [
       "(-13.339366673435785, (:do => [6.652788616858527 6.547134098190719 3.282667260318493 2.8118983176263157; 2.3617701639986 2.324262330178518 1.1653617813902817 0.9982366693477814; 7.966878478442113 7.840354586071369 3.931075020457707 3.3673175987429786], (:dw => [4.918219953246502 2.089099067740587 0.2294389452322473 6.112767850916683; 6.366463684754801 2.704265664215801 0.2970006885774466 7.91276415169454; 5.167532394107085 2.1949988430107377 0.24106957257468054 6.422633836540234; 1.4934663159727513 0.6343756721049334 0.0696714135467833 1.8562026443488047], :di => [13.811296183254598; 17.799582060676727; 15.226262615176065; 13.857397199051475])))"
      ]
     },
     "execution_count": 5,
     "metadata": {},
     "output_type": "execute_result"
    }
   ],
   "source": [
    "_dy, _rest = y.f[2](y.f[1])"
   ]
  },
  {
   "cell_type": "code",
   "execution_count": 6,
   "metadata": {},
   "outputs": [
    {
     "data": {
      "text/plain": [
       "Dict{Symbol,Array{Float64,2}} with 3 entries:\n",
       "  :do => [6.65279 6.54713 3.28267 2.8119; 2.36177 2.32426 1.16536 0.998237; 7.9…\n",
       "  :di => [13.8113; 17.7996; 15.2263; 13.8574]\n",
       "  :dw => [4.91822 2.0891 0.229439 6.11277; 6.36646 2.70427 0.297001 7.91276; 5.…"
      ]
     },
     "execution_count": 6,
     "metadata": {},
     "output_type": "execute_result"
    }
   ],
   "source": [
    "grads = params(_rest)"
   ]
  },
  {
   "cell_type": "code",
   "execution_count": 7,
   "metadata": {},
   "outputs": [
    {
     "data": {
      "text/plain": [
       "-13.339366673435785"
      ]
     },
     "execution_count": 7,
     "metadata": {},
     "output_type": "execute_result"
    }
   ],
   "source": [
    "_dy"
   ]
  },
  {
   "cell_type": "code",
   "execution_count": 8,
   "metadata": {},
   "outputs": [
    {
     "data": {
      "text/plain": [
       "3×4 Array{Float64,2}:\n",
       " 6.65279  6.54713  3.28267  2.8119  \n",
       " 2.36177  2.32426  1.16536  0.998237\n",
       " 7.96688  7.84035  3.93108  3.36732 "
      ]
     },
     "execution_count": 8,
     "metadata": {},
     "output_type": "execute_result"
    }
   ],
   "source": [
    "_do = grads[:do]"
   ]
  },
  {
   "cell_type": "code",
   "execution_count": 9,
   "metadata": {},
   "outputs": [
    {
     "data": {
      "text/plain": [
       "4×4 Array{Float64,2}:\n",
       " 4.91822  2.0891    0.229439   6.11277\n",
       " 6.36646  2.70427   0.297001   7.91276\n",
       " 5.16753  2.195     0.24107    6.42263\n",
       " 1.49347  0.634376  0.0696714  1.8562 "
      ]
     },
     "execution_count": 9,
     "metadata": {},
     "output_type": "execute_result"
    }
   ],
   "source": [
    "_dw = grads[:dw]"
   ]
  },
  {
   "cell_type": "code",
   "execution_count": 10,
   "metadata": {},
   "outputs": [
    {
     "data": {
      "text/plain": [
       "4×1 Array{Float64,2}:\n",
       " 13.811296183254598\n",
       " 17.799582060676727\n",
       " 15.226262615176065\n",
       " 13.857397199051475"
      ]
     },
     "execution_count": 10,
     "metadata": {},
     "output_type": "execute_result"
    }
   ],
   "source": [
    "_di = grads[:di]"
   ]
  },
  {
   "cell_type": "code",
   "execution_count": null,
   "metadata": {},
   "outputs": [],
   "source": []
  }
 ],
 "metadata": {
  "kernelspec": {
   "display_name": "Julia 1.2 (4 threads) 1.2.0",
   "language": "julia",
   "name": "julia-1.2-(4-threads)-1.2"
  },
  "language_info": {
   "file_extension": ".jl",
   "mimetype": "application/julia",
   "name": "julia",
   "version": "1.2.0"
  }
 },
 "nbformat": 4,
 "nbformat_minor": 2
}
