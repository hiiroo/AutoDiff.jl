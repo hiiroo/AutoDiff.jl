{
 "cells": [
  {
   "cell_type": "code",
   "execution_count": 1,
   "metadata": {
    "tags": []
   },
   "outputs": [
    {
     "name": "stderr",
     "output_type": "stream",
     "text": [
      "┌ Info: Precompiling AutoDiff [87d66b72-4fb9-4d22-ac15-1dba862bf296]\n",
      "└ @ Base loading.jl:1260\n"
     ]
    }
   ],
   "source": [
    "using AutoDiff"
   ]
  },
  {
   "cell_type": "code",
   "execution_count": 2,
   "metadata": {},
   "outputs": [
    {
     "data": {
      "text/plain": [
       "BD{Array{Float64,2}}(([0.783235980581436 0.9589161326916267 0.8498949888820362 0.07948276716824254; 0.4304994029205049 0.4556289007117451 0.9115290849135946 0.4985780222173073; 0.18729705038303202 0.5299781734330222 0.6245247935946834 0.9887508041534141], AutoDiff.var\"#3#4\"{Symbol}(:do)))"
      ]
     },
     "execution_count": 2,
     "metadata": {},
     "output_type": "execute_result"
    }
   ],
   "source": [
    "@differentiate i = rand(4, 1)\n",
    "@differentiate w = rand(4, 4)\n",
    "@differentiate o = rand(3, 4)"
   ]
  },
  {
   "cell_type": "code",
   "execution_count": 3,
   "metadata": {},
   "outputs": [
    {
     "data": {
      "text/plain": [
       "f (generic function with 1 method)"
      ]
     },
     "execution_count": 3,
     "metadata": {},
     "output_type": "execute_result"
    }
   ],
   "source": [
    "function f(x)\n",
    "    x = w*x\n",
    "    x = o*x\n",
    "    return x\n",
    "end"
   ]
  },
  {
   "cell_type": "code",
   "execution_count": 4,
   "metadata": {},
   "outputs": [
    {
     "data": {
      "text/plain": [
       "BD{Float64}((4.2389208094497315, AutoDiff.var\"#38#39\"{BD{Array{Float64,2}}}(BD{Array{Float64,2}}(([2.1513092660829964; 0.9789897163424774; 1.1086218270242572], AutoDiff.var\"#45#46\"{BD{Array{Float64,2}}}(BD{Array{Float64,2}}(([-1.4667342179423635; -0.9894390917800233; -1.0529111201921353], AutoDiff.var\"#23#24\"{BD{Float64},BD{Array{Float64,2}}}(BD{Float64}((1.0, AutoDiff.var\"#1#2\"())), BD{Array{Float64,2}}(([2.4667342179423635; 1.9894390917800233; 2.0529111201921353], AutoDiff.var\"#13#14\"{BD{Array{Float64,2}},BD{Array{Float64,2}}}(BD{Array{Float64,2}}(([0.783235980581436 0.9589161326916267 0.8498949888820362 0.07948276716824254; 0.4304994029205049 0.4556289007117451 0.9115290849135946 0.4985780222173073; 0.18729705038303202 0.5299781734330222 0.6245247935946834 0.9887508041534141], AutoDiff.var\"#3#4\"{Symbol}(:do))), BD{Array{Float64,2}}(([1.1828441100403828; 0.9743876626398856; 0.6255239399721836; 0.9348245283591133], AutoDiff.var\"#13#14\"{BD{Array{Float64,2}},BD{Array{Float64,2}}}(BD{Array{Float64,2}}(([0.17538428894352243 0.3417182302062147 0.688235310623946 0.5059300138461464; 0.24803338791585006 0.7924412745757443 0.7387023648391668 0.14096537598213787; 0.4031952008671784 0.22897918243022652 0.07319580211581012 0.16540088794491137; 0.13650348572399484 0.7824958036840199 0.8484594502665315 0.1330792364528397], AutoDiff.var\"#3#4\"{Symbol}(:dw))), BD{Array{Float64,2}}(([0.9607780139175703; 0.10422149912018952; 0.6962255044232291; 0.9874041172401591], AutoDiff.var\"#3#4\"{Symbol}(:di))))))))))))))))))"
      ]
     },
     "execution_count": 4,
     "metadata": {},
     "output_type": "execute_result"
    }
   ],
   "source": [
    "y = sum(abs2.(BD{Float64}(1.0) .-f(i)))"
   ]
  },
  {
   "cell_type": "code",
   "execution_count": 5,
   "metadata": {},
   "outputs": [
    {
     "data": {
      "text/plain": [
       "BD{Float64}((4.2389208094497315, AutoDiff.var\"#38#39\"{BD{Array{Float64,2}}}(BD{Array{Float64,2}}(([2.1513092660829964; 0.9789897163424774; 1.1086218270242572], AutoDiff.var\"#45#46\"{BD{Array{Float64,2}}}(BD{Array{Float64,2}}(([-1.4667342179423635; -0.9894390917800233; -1.0529111201921353], AutoDiff.var\"#23#24\"{BD{Float64},BD{Array{Float64,2}}}(BD{Float64}((1.0, AutoDiff.var\"#1#2\"())), BD{Array{Float64,2}}(([2.4667342179423635; 1.9894390917800233; 2.0529111201921353], AutoDiff.var\"#13#14\"{BD{Array{Float64,2}},BD{Array{Float64,2}}}(BD{Array{Float64,2}}(([0.783235980581436 0.9589161326916267 0.8498949888820362 0.07948276716824254; 0.4304994029205049 0.4556289007117451 0.9115290849135946 0.4985780222173073; 0.18729705038303202 0.5299781734330222 0.6245247935946834 0.9887508041534141], AutoDiff.var\"#3#4\"{Symbol}(:do))), BD{Array{Float64,2}}(([1.1828441100403828; 0.9743876626398856; 0.6255239399721836; 0.9348245283591133], AutoDiff.var\"#13#14\"{BD{Array{Float64,2}},BD{Array{Float64,2}}}(BD{Array{Float64,2}}(([0.17538428894352243 0.3417182302062147 0.688235310623946 0.5059300138461464; 0.24803338791585006 0.7924412745757443 0.7387023648391668 0.14096537598213787; 0.4031952008671784 0.22897918243022652 0.07319580211581012 0.16540088794491137; 0.13650348572399484 0.7824958036840199 0.8484594502665315 0.1330792364528397], AutoDiff.var\"#3#4\"{Symbol}(:dw))), BD{Array{Float64,2}}(([0.9607780139175703; 0.10422149912018952; 0.6962255044232291; 0.9874041172401591], AutoDiff.var\"#3#4\"{Symbol}(:di))))))))))))))))))"
      ]
     },
     "execution_count": 5,
     "metadata": {},
     "output_type": "execute_result"
    }
   ],
   "source": [
    "y = sum(abs2.(1.0 .-f(i)))"
   ]
  },
  {
   "cell_type": "code",
   "execution_count": 6,
   "metadata": {},
   "outputs": [
    {
     "data": {
      "text/plain": [
       "(-29.74946202416143, (:do => [14.708359438160064 12.116257630709088 7.778227805497404 11.624300326646487; 9.922060606510717 8.173463739544847 5.247087414600632 7.841595987247426; 10.558555887478612 8.697787396262765 5.583685477308275 8.34463049178015], (:dw => [14.433180678464797 1.5656558597220478 10.45897007709617 14.833168349343541; 19.673498901974952 2.1341054008331475 14.25635422374736 20.2187118511607; 22.85611810522235 2.4793436761540533 16.56263166564361 23.48953118650374; 13.44759892045092 1.4587437459582426 9.74477059846154 13.82027310024057], :di => [19.21584247932671; 37.759438641974036; 39.08186749964695; 16.284177686728565])))"
      ]
     },
     "execution_count": 6,
     "metadata": {},
     "output_type": "execute_result"
    }
   ],
   "source": [
    "_dy, _rest = y.f[2](y.f[1])"
   ]
  },
  {
   "cell_type": "code",
   "execution_count": 7,
   "metadata": {},
   "outputs": [
    {
     "data": {
      "text/plain": [
       "Dict{Symbol,Array{Float64,2}} with 3 entries:\n",
       "  :do => [14.7084 12.1163 7.77823 11.6243; 9.92206 8.17346 5.24709 7.8416; 10.5…\n",
       "  :di => [19.2158; 37.7594; 39.0819; 16.2842]\n",
       "  :dw => [14.4332 1.56566 10.459 14.8332; 19.6735 2.13411 14.2564 20.2187; 22.8…"
      ]
     },
     "execution_count": 7,
     "metadata": {},
     "output_type": "execute_result"
    }
   ],
   "source": [
    "grads = params(_rest)"
   ]
  },
  {
   "cell_type": "code",
   "execution_count": 8,
   "metadata": {},
   "outputs": [
    {
     "data": {
      "text/plain": [
       "-29.74946202416143"
      ]
     },
     "execution_count": 8,
     "metadata": {},
     "output_type": "execute_result"
    }
   ],
   "source": [
    "_dy"
   ]
  },
  {
   "cell_type": "code",
   "execution_count": 9,
   "metadata": {},
   "outputs": [
    {
     "data": {
      "text/plain": [
       "3×4 Array{Float64,2}:\n",
       " 14.7084   12.1163   7.77823  11.6243\n",
       "  9.92206   8.17346  5.24709   7.8416\n",
       " 10.5586    8.69779  5.58369   8.34463"
      ]
     },
     "execution_count": 9,
     "metadata": {},
     "output_type": "execute_result"
    }
   ],
   "source": [
    "_do = grads[:do]"
   ]
  },
  {
   "cell_type": "code",
   "execution_count": 10,
   "metadata": {},
   "outputs": [
    {
     "data": {
      "text/plain": [
       "4×4 Array{Float64,2}:\n",
       " 14.4332  1.56566  10.459    14.8332\n",
       " 19.6735  2.13411  14.2564   20.2187\n",
       " 22.8561  2.47934  16.5626   23.4895\n",
       " 13.4476  1.45874   9.74477  13.8203"
      ]
     },
     "execution_count": 10,
     "metadata": {},
     "output_type": "execute_result"
    }
   ],
   "source": [
    "_dw = grads[:dw]"
   ]
  },
  {
   "cell_type": "code",
   "execution_count": 11,
   "metadata": {},
   "outputs": [
    {
     "data": {
      "text/plain": [
       "4×1 Array{Float64,2}:\n",
       " 19.21584247932671\n",
       " 37.759438641974036\n",
       " 39.08186749964695\n",
       " 16.284177686728565"
      ]
     },
     "execution_count": 11,
     "metadata": {},
     "output_type": "execute_result"
    }
   ],
   "source": [
    "_di = grads[:di]"
   ]
  },
  {
   "cell_type": "code",
   "execution_count": null,
   "metadata": {},
   "outputs": [],
   "source": []
  }
 ],
 "metadata": {
  "kernelspec": {
   "display_name": "Julia 1.4.1",
   "language": "julia",
   "name": "julia-1.4"
  },
  "language_info": {
   "file_extension": ".jl",
   "mimetype": "application/julia",
   "name": "julia",
   "version": "1.4.1"
  }
 },
 "nbformat": 4,
 "nbformat_minor": 4
}
