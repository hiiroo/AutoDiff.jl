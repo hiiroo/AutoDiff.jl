{
 "cells": [
  {
   "cell_type": "code",
   "execution_count": 1,
   "metadata": {
    "tags": []
   },
   "outputs": [],
   "source": [
    "using AutoDiff"
   ]
  },
  {
   "cell_type": "code",
   "execution_count": 2,
   "metadata": {},
   "outputs": [
    {
     "data": {
      "text/plain": [
       "BD{Array{Float64,2}}(([0.7997534574641032 0.36165518732478796 0.5813517387957376 0.6668495492506472; 0.880142190824595 0.9618350552746007 0.01680578996188098 0.9041499130433508; 0.873652326274758 0.7700586964484377 0.5220335561050069 0.2492385468418068], AutoDiff.var\"#3#4\"{Symbol}(:do)))"
      ]
     },
     "execution_count": 2,
     "metadata": {},
     "output_type": "execute_result"
    }
   ],
   "source": [
    "@differentiate i = rand(4, 1)\n",
    "@differentiate w = rand(4, 4)\n",
    "@differentiate o = rand(3, 4)"
   ]
  },
  {
   "cell_type": "code",
   "execution_count": 3,
   "metadata": {},
   "outputs": [
    {
     "data": {
      "text/plain": [
       "f (generic function with 1 method)"
      ]
     },
     "execution_count": 3,
     "metadata": {},
     "output_type": "execute_result"
    }
   ],
   "source": [
    "function f(x)\n",
    "    x = w*x\n",
    "    x = o*x\n",
    "    return x\n",
    "end"
   ]
  },
  {
   "cell_type": "code",
   "execution_count": 4,
   "metadata": {},
   "outputs": [
    {
     "data": {
      "text/plain": [
       "BD{Float64}((7.01526529463195, AutoDiff.var\"#342#343\"{BD{Array{Float64,2}}}(BD{Array{Float64,2}}(([2.337286153702276; 2.5447834056328675; 2.1331957352968067], AutoDiff.var\"#349#350\"{BD{Array{Float64,2}}}(BD{Array{Float64,2}}(([-1.528818548324907; -1.595237726996471; -1.4605463824530895], AutoDiff.var\"#317#318\"{BD{Float64},BD{Array{Float64,2}}}(BD{Float64}((1.0, AutoDiff.var\"#1#2\"())), BD{Array{Float64,2}}(([2.528818548324907; 2.595237726996471; 2.4605463824530895], AutoDiff.var\"#183#184\"{BD{Array{Float64,2}},BD{Array{Float64,2}}}(BD{Array{Float64,2}}(([0.7997534574641032 0.36165518732478796 0.5813517387957376 0.6668495492506472; 0.880142190824595 0.9618350552746007 0.01680578996188098 0.9041499130433508; 0.873652326274758 0.7700586964484377 0.5220335561050069 0.2492385468418068], AutoDiff.var\"#3#4\"{Symbol}(:do))), BD{Array{Float64,2}}(([1.2680708830270075; 0.6814986142093991; 1.1612797270721782; 0.889398483414795], AutoDiff.var\"#183#184\"{BD{Array{Float64,2}},BD{Array{Float64,2}}}(BD{Array{Float64,2}}(([0.49029910385520914 0.9954603692614523 0.19565457780937479 0.662464827857757; 0.3066247706106451 0.20807093746964966 0.2546875858046027 0.6926833254420266; 0.42963718147198304 0.8973679297992676 0.1873016874203608 0.6688795722217604; 0.8064764166451908 0.5148879788914087 0.014436108413282245 0.1998900406057229], AutoDiff.var\"#3#4\"{Symbol}(:dw))), BD{Array{Float64,2}}(([0.6016142102664137; 0.6695198580446295; 0.7407006130901104; 0.24408544757831607], AutoDiff.var\"#3#4\"{Symbol}(:di))))))))))))))))))"
      ]
     },
     "execution_count": 4,
     "metadata": {},
     "output_type": "execute_result"
    }
   ],
   "source": [
    "y = sum(abs2.(BD{Float64}(1.0) .-f(i)))"
   ]
  },
  {
   "cell_type": "code",
   "execution_count": 5,
   "metadata": {},
   "outputs": [
    {
     "data": {
      "text/plain": [
       "BD{Float64}((7.01526529463195, AutoDiff.var\"#342#343\"{BD{Array{Float64,2}}}(BD{Array{Float64,2}}(([2.337286153702276; 2.5447834056328675; 2.1331957352968067], AutoDiff.var\"#349#350\"{BD{Array{Float64,2}}}(BD{Array{Float64,2}}(([-1.528818548324907; -1.595237726996471; -1.4605463824530895], AutoDiff.var\"#317#318\"{BD{Float64},BD{Array{Float64,2}}}(BD{Float64}((1.0, AutoDiff.var\"#1#2\"())), BD{Array{Float64,2}}(([2.528818548324907; 2.595237726996471; 2.4605463824530895], AutoDiff.var\"#183#184\"{BD{Array{Float64,2}},BD{Array{Float64,2}}}(BD{Array{Float64,2}}(([0.7997534574641032 0.36165518732478796 0.5813517387957376 0.6668495492506472; 0.880142190824595 0.9618350552746007 0.01680578996188098 0.9041499130433508; 0.873652326274758 0.7700586964484377 0.5220335561050069 0.2492385468418068], AutoDiff.var\"#3#4\"{Symbol}(:do))), BD{Array{Float64,2}}(([1.2680708830270075; 0.6814986142093991; 1.1612797270721782; 0.889398483414795], AutoDiff.var\"#183#184\"{BD{Array{Float64,2}},BD{Array{Float64,2}}}(BD{Array{Float64,2}}(([0.49029910385520914 0.9954603692614523 0.19565457780937479 0.662464827857757; 0.3066247706106451 0.20807093746964966 0.2546875858046027 0.6926833254420266; 0.42963718147198304 0.8973679297992676 0.1873016874203608 0.6688795722217604; 0.8064764166451908 0.5148879788914087 0.014436108413282245 0.1998900406057229], AutoDiff.var\"#3#4\"{Symbol}(:dw))), BD{Array{Float64,2}}(([0.6016142102664137; 0.6695198580446295; 0.7407006130901104; 0.24408544757831607], AutoDiff.var\"#3#4\"{Symbol}(:di))))))))))))))))))"
      ]
     },
     "execution_count": 5,
     "metadata": {},
     "output_type": "execute_result"
    }
   ],
   "source": [
    "y = sum(abs2.(1.0 .-f(i)))"
   ]
  },
  {
   "cell_type": "code",
   "execution_count": 6,
   "metadata": {},
   "outputs": [
    {
     "data": {
      "text/plain": [
       "(-64.32440782952524, (:do => [-27.20029214749944 -14.618237554956037 -24.909607391922833 -19.077717900656282; -28.382002734437947 -15.253323604304288 -25.99179969382511 -19.90654507264327; -25.98561375463805 -13.965433636401347 -23.797223682602613 -18.22576779683497], (:dw => [-32.94276025921101 -36.66108910987692 -40.5587539397926 -13.365456209509984; -27.112107531325996 -30.172316537579444 -33.380120229748634 -10.999858029690866; -14.164319852477146 -15.76308081674089 -17.438950443155704 -5.746713245525416; -23.852909377075985 -26.5452448222912 -29.36743231473728 -9.677544117135088], :di => [-82.75631804640612; -105.42742429194617; -27.173332976377985; -91.16424961474286])))"
      ]
     },
     "execution_count": 6,
     "metadata": {},
     "output_type": "execute_result"
    }
   ],
   "source": [
    "_dy, _rest = y.f[2](y.f[1])"
   ]
  },
  {
   "cell_type": "code",
   "execution_count": 7,
   "metadata": {},
   "outputs": [
    {
     "data": {
      "text/plain": [
       "Dict{Symbol,Array{Float64,2}} with 3 entries:\n",
       "  :do => [-27.2003 -14.6182 -24.9096 -19.0777; -28.382 -15.2533 -25.9918 -19.90…\n",
       "  :di => [-82.7563; -105.427; -27.1733; -91.1642]\n",
       "  :dw => [-32.9428 -36.6611 -40.5588 -13.3655; -27.1121 -30.1723 -33.3801 -10.9…"
      ]
     },
     "execution_count": 7,
     "metadata": {},
     "output_type": "execute_result"
    }
   ],
   "source": [
    "grads = params(_rest)"
   ]
  },
  {
   "cell_type": "code",
   "execution_count": 8,
   "metadata": {},
   "outputs": [
    {
     "data": {
      "text/plain": [
       "-64.32440782952524"
      ]
     },
     "execution_count": 8,
     "metadata": {},
     "output_type": "execute_result"
    }
   ],
   "source": [
    "_dy"
   ]
  },
  {
   "cell_type": "code",
   "execution_count": 9,
   "metadata": {},
   "outputs": [
    {
     "data": {
      "text/plain": [
       "3×4 Array{Float64,2}:\n",
       " -27.2003  -14.6182  -24.9096  -19.0777\n",
       " -28.382   -15.2533  -25.9918  -19.9065\n",
       " -25.9856  -13.9654  -23.7972  -18.2258"
      ]
     },
     "execution_count": 9,
     "metadata": {},
     "output_type": "execute_result"
    }
   ],
   "source": [
    "_do = grads[:do]"
   ]
  },
  {
   "cell_type": "code",
   "execution_count": 10,
   "metadata": {},
   "outputs": [
    {
     "data": {
      "text/plain": [
       "4×4 Array{Float64,2}:\n",
       " -32.9428  -36.6611  -40.5588  -13.3655\n",
       " -27.1121  -30.1723  -33.3801  -10.9999\n",
       " -14.1643  -15.7631  -17.439    -5.74671\n",
       " -23.8529  -26.5452  -29.3674   -9.67754"
      ]
     },
     "execution_count": 10,
     "metadata": {},
     "output_type": "execute_result"
    }
   ],
   "source": [
    "_dw = grads[:dw]"
   ]
  },
  {
   "cell_type": "code",
   "execution_count": 11,
   "metadata": {},
   "outputs": [
    {
     "data": {
      "text/plain": [
       "4×1 Array{Float64,2}:\n",
       "  -82.75631804640612\n",
       " -105.42742429194617\n",
       "  -27.173332976377985\n",
       "  -91.16424961474286"
      ]
     },
     "execution_count": 11,
     "metadata": {},
     "output_type": "execute_result"
    }
   ],
   "source": [
    "_di = grads[:di]"
   ]
  },
  {
   "cell_type": "code",
   "execution_count": null,
   "metadata": {},
   "outputs": [],
   "source": []
  }
 ],
 "metadata": {
  "kernelspec": {
   "display_name": "Julia 1.4.1",
   "language": "julia",
   "name": "julia-1.4"
  },
  "language_info": {
   "file_extension": ".jl",
   "mimetype": "application/julia",
   "name": "julia",
   "version": "1.4.1"
  }
 },
 "nbformat": 4,
 "nbformat_minor": 4
}
