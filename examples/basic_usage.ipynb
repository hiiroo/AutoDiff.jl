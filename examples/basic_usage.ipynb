{
 "cells": [
  {
   "cell_type": "code",
   "execution_count": 1,
   "metadata": {},
   "outputs": [],
   "source": [
    "using AutoDiff"
   ]
  },
  {
   "cell_type": "code",
   "execution_count": 2,
   "metadata": {},
   "outputs": [
    {
     "data": {
      "text/plain": [
       "BD{Array{Float64,2}}(([0.5459253871480689 0.7601151424766119 0.70916170773235 0.5424255789799362; 0.26161064917199006 0.9900262644342026 0.1587324237837251 0.8091354651163083; 0.945150565560011 0.5083684119920806 0.6491780654188195 0.7677225583620759], getfield(AutoDiff, Symbol(\"##3#4\")){Symbol}(:do)))"
      ]
     },
     "execution_count": 2,
     "metadata": {},
     "output_type": "execute_result"
    }
   ],
   "source": [
    "@differentiate i = rand(4, 1)\n",
    "@differentiate w = rand(4, 4)\n",
    "@differentiate o = rand(3, 4)"
   ]
  },
  {
   "cell_type": "code",
   "execution_count": 3,
   "metadata": {},
   "outputs": [
    {
     "data": {
      "text/plain": [
       "BD{Array{Float64,2}}(([0.782933704643793; 1.2523647320274987; 1.3274804078000053; 1.052562002449965], getfield(AutoDiff, Symbol(\"##9#10\")){BD{Array{Float64,2}},BD{Array{Float64,2}}}(BD{Array{Float64,2}}(([0.1328275071354581 0.19943422517249698 0.006568975685855349 0.9408575568403401; 0.6286252882115886 0.6259249857574876 0.3300845088671931 0.7207315907844059; 0.18758366163242135 0.7272746192299437 0.49535090626347045 0.6870382776653989; 0.265057228233158 0.13064129471125896 0.45556374638013586 0.792555364559389], getfield(AutoDiff, Symbol(\"##3#4\")){Symbol}(:dw))), BD{Array{Float64,2}}(([0.22125737485096542; 0.5531005075815247; 0.8439675324789686; 0.6777789699388852], getfield(AutoDiff, Symbol(\"##3#4\")){Symbol}(:di))))))"
      ]
     },
     "execution_count": 3,
     "metadata": {},
     "output_type": "execute_result"
    }
   ],
   "source": [
    "o1 = w*i"
   ]
  },
  {
   "cell_type": "code",
   "execution_count": 4,
   "metadata": {},
   "outputs": [
    {
     "data": {
      "text/plain": [
       "BD{Array{Float64,2}}(([2.891699609104592; 2.507077200160427; 3.0464996601683727], getfield(AutoDiff, Symbol(\"##9#10\")){BD{Array{Float64,2}},BD{Array{Float64,2}}}(BD{Array{Float64,2}}(([0.5459253871480689 0.7601151424766119 0.70916170773235 0.5424255789799362; 0.26161064917199006 0.9900262644342026 0.1587324237837251 0.8091354651163083; 0.945150565560011 0.5083684119920806 0.6491780654188195 0.7677225583620759], getfield(AutoDiff, Symbol(\"##3#4\")){Symbol}(:do))), BD{Array{Float64,2}}(([0.782933704643793; 1.2523647320274987; 1.3274804078000053; 1.052562002449965], getfield(AutoDiff, Symbol(\"##9#10\")){BD{Array{Float64,2}},BD{Array{Float64,2}}}(BD{Array{Float64,2}}(([0.1328275071354581 0.19943422517249698 0.006568975685855349 0.9408575568403401; 0.6286252882115886 0.6259249857574876 0.3300845088671931 0.7207315907844059; 0.18758366163242135 0.7272746192299437 0.49535090626347045 0.6870382776653989; 0.265057228233158 0.13064129471125896 0.45556374638013586 0.792555364559389], getfield(AutoDiff, Symbol(\"##3#4\")){Symbol}(:dw))), BD{Array{Float64,2}}(([0.22125737485096542; 0.5531005075815247; 0.8439675324789686; 0.6777789699388852], getfield(AutoDiff, Symbol(\"##3#4\")){Symbol}(:di)))))))))"
      ]
     },
     "execution_count": 4,
     "metadata": {},
     "output_type": "execute_result"
    }
   ],
   "source": [
    "o2 = o*o1"
   ]
  },
  {
   "cell_type": "code",
   "execution_count": 5,
   "metadata": {},
   "outputs": [
    {
     "data": {
      "text/plain": [
       "f (generic function with 1 method)"
      ]
     },
     "execution_count": 5,
     "metadata": {},
     "output_type": "execute_result"
    }
   ],
   "source": [
    "function f(x)\n",
    "    x = w*x\n",
    "    x = o*x\n",
    "    return x\n",
    "end"
   ]
  },
  {
   "cell_type": "code",
   "execution_count": 6,
   "metadata": {},
   "outputs": [
    {
     "data": {
      "text/plain": [
       "BD{Float64}((10.037969957399124, getfield(AutoDiff, Symbol(\"##31#33\")){BD{Array{Float64,2}}}(BD{Array{Float64,2}}(([3.5785274110864664; 2.271281687243392; 4.188160859069265], getfield(AutoDiff, Symbol(\"##36#37\")){BD{Array{Float64,2}}}(BD{Array{Float64,2}}(([-1.8916996091045921; -1.5070772001604271; -2.0464996601683727], getfield(AutoDiff, Symbol(\"##17#18\")){BD{Int64},BD{Array{Float64,2}}}(BD{Int64}((1, getfield(AutoDiff, Symbol(\"##1#2\"))())), BD{Array{Float64,2}}(([2.891699609104592; 2.507077200160427; 3.0464996601683727], getfield(AutoDiff, Symbol(\"##9#10\")){BD{Array{Float64,2}},BD{Array{Float64,2}}}(BD{Array{Float64,2}}(([0.5459253871480689 0.7601151424766119 0.70916170773235 0.5424255789799362; 0.26161064917199006 0.9900262644342026 0.1587324237837251 0.8091354651163083; 0.945150565560011 0.5083684119920806 0.6491780654188195 0.7677225583620759], getfield(AutoDiff, Symbol(\"##3#4\")){Symbol}(:do))), BD{Array{Float64,2}}(([0.782933704643793; 1.2523647320274987; 1.3274804078000053; 1.052562002449965], getfield(AutoDiff, Symbol(\"##9#10\")){BD{Array{Float64,2}},BD{Array{Float64,2}}}(BD{Array{Float64,2}}(([0.1328275071354581 0.19943422517249698 0.006568975685855349 0.9408575568403401; 0.6286252882115886 0.6259249857574876 0.3300845088671931 0.7207315907844059; 0.18758366163242135 0.7272746192299437 0.49535090626347045 0.6870382776653989; 0.265057228233158 0.13064129471125896 0.45556374638013586 0.792555364559389], getfield(AutoDiff, Symbol(\"##3#4\")){Symbol}(:dw))), BD{Array{Float64,2}}(([0.22125737485096542; 0.5531005075815247; 0.8439675324789686; 0.6777789699388852], getfield(AutoDiff, Symbol(\"##3#4\")){Symbol}(:di))))))))))))))))))"
      ]
     },
     "execution_count": 6,
     "metadata": {},
     "output_type": "execute_result"
    }
   ],
   "source": [
    "y = sum(abs2.(BD{Int}(1).-f(i)))"
   ]
  },
  {
   "cell_type": "code",
   "execution_count": 7,
   "metadata": {},
   "outputs": [
    {
     "data": {
      "text/plain": [
       "(-109.31904321980952, (:do => [29.73398039898651 47.56186657135869 50.414583241785465 39.973828900116395; 23.68843536978919 37.891536458420816 40.16423569239315 31.846306807133512; 32.167147727424684 51.45391123769977 54.54006913956053 43.24493533010705], (:dw => [14.930479643441037 37.32330221663943 56.951051109098984 45.7366228820228; 17.636012226637117 44.08660873264629 67.27107619219277 54.02449617261892; 12.92290062590886 32.304744194087625 49.293310837957954 39.58679470345738; 16.9535000308602 42.380460667891086 64.66769117894907 51.9337526964478], :di => [90.33549466570959; 115.8370164346253; 90.59233813279121; 221.79328741478648])))"
      ]
     },
     "execution_count": 7,
     "metadata": {},
     "output_type": "execute_result"
    }
   ],
   "source": [
    "_dy, _rest = y.f[2](y.f[1])"
   ]
  },
  {
   "cell_type": "code",
   "execution_count": 8,
   "metadata": {},
   "outputs": [
    {
     "data": {
      "text/plain": [
       "Dict{Symbol,Array{Float64,2}} with 3 entries:\n",
       "  :do => [29.734 47.5619 50.4146 39.9738; 23.6884 37.8915 40.1642 31.8463; 32.1…\n",
       "  :di => [90.3355; 115.837; 90.5923; 221.793]\n",
       "  :dw => [14.9305 37.3233 56.9511 45.7366; 17.636 44.0866 67.2711 54.0245; 12.9…"
      ]
     },
     "execution_count": 8,
     "metadata": {},
     "output_type": "execute_result"
    }
   ],
   "source": [
    "grads = params(_rest)"
   ]
  },
  {
   "cell_type": "code",
   "execution_count": 9,
   "metadata": {},
   "outputs": [
    {
     "data": {
      "text/plain": [
       "-109.31904321980952"
      ]
     },
     "execution_count": 9,
     "metadata": {},
     "output_type": "execute_result"
    }
   ],
   "source": [
    "_dy"
   ]
  },
  {
   "cell_type": "code",
   "execution_count": 10,
   "metadata": {},
   "outputs": [
    {
     "data": {
      "text/plain": [
       "3×4 Array{Float64,2}:\n",
       " 29.734   47.5619  50.4146  39.9738\n",
       " 23.6884  37.8915  40.1642  31.8463\n",
       " 32.1671  51.4539  54.5401  43.2449"
      ]
     },
     "execution_count": 10,
     "metadata": {},
     "output_type": "execute_result"
    }
   ],
   "source": [
    "_do = grads[:do]"
   ]
  },
  {
   "cell_type": "code",
   "execution_count": 11,
   "metadata": {},
   "outputs": [
    {
     "data": {
      "text/plain": [
       "4×4 Array{Float64,2}:\n",
       " 14.9305  37.3233  56.9511  45.7366\n",
       " 17.636   44.0866  67.2711  54.0245\n",
       " 12.9229  32.3047  49.2933  39.5868\n",
       " 16.9535  42.3805  64.6677  51.9338"
      ]
     },
     "execution_count": 11,
     "metadata": {},
     "output_type": "execute_result"
    }
   ],
   "source": [
    "_dw = grads[:dw]"
   ]
  },
  {
   "cell_type": "code",
   "execution_count": 12,
   "metadata": {},
   "outputs": [
    {
     "data": {
      "text/plain": [
       "4×1 Array{Float64,2}:\n",
       "  90.33549466570959\n",
       " 115.8370164346253 \n",
       "  90.59233813279121\n",
       " 221.79328741478648"
      ]
     },
     "execution_count": 12,
     "metadata": {},
     "output_type": "execute_result"
    }
   ],
   "source": [
    "_di = grads[:di]"
   ]
  },
  {
   "cell_type": "code",
   "execution_count": null,
   "metadata": {},
   "outputs": [],
   "source": []
  }
 ],
 "metadata": {
  "kernelspec": {
   "display_name": "Julia 1.2.0",
   "language": "julia",
   "name": "julia-1.2"
  },
  "language_info": {
   "file_extension": ".jl",
   "mimetype": "application/julia",
   "name": "julia",
   "version": "1.2.0"
  }
 },
 "nbformat": 4,
 "nbformat_minor": 2
}
