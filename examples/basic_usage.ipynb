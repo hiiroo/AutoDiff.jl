{
 "cells": [
  {
   "cell_type": "code",
   "execution_count": 1,
   "metadata": {
    "tags": []
   },
   "outputs": [],
   "source": [
    "using AutoDiff"
   ]
  },
  {
   "cell_type": "code",
   "execution_count": 2,
   "metadata": {},
   "outputs": [
    {
     "data": {
      "text/plain": [
       "BD{Array{Float64,2}}(([0.5201221718193338 0.15776465206394796 0.5399378705336173 0.9063385966009605; 0.6408129542904766 0.9683554949341235 0.8008389559552518 0.7929026089332545; 0.874205128614981 0.7170734664130549 0.9284446162487909 0.14969957861495042], AutoDiff.var\"#3#4\"{Symbol}(:do)))"
      ]
     },
     "execution_count": 2,
     "metadata": {},
     "output_type": "execute_result"
    }
   ],
   "source": [
    "@differentiate i = rand(4, 1)\n",
    "@differentiate w = rand(4, 4)\n",
    "@differentiate o = rand(3, 4)"
   ]
  },
  {
   "cell_type": "code",
   "execution_count": 3,
   "metadata": {},
   "outputs": [
    {
     "data": {
      "text/plain": [
       "f (generic function with 1 method)"
      ]
     },
     "execution_count": 3,
     "metadata": {},
     "output_type": "execute_result"
    }
   ],
   "source": [
    "function f(x)\n",
    "    x = w*x\n",
    "    x = o*x\n",
    "    return x\n",
    "end"
   ]
  },
  {
   "cell_type": "code",
   "execution_count": 4,
   "metadata": {},
   "outputs": [
    {
     "data": {
      "text/plain": [
       "BD{Float64}((22.42728417774115, AutoDiff.var\"#360#361\"{BD{Array{Float64,2}}}(BD{Array{Float64,2}}(([3.608577648333148; 13.358673162332277; 5.4600333670757255], AutoDiff.var\"#367#368\"{BD{Array{Float64,2}}}(BD{Array{Float64,2}}(([-1.8996256600533559; -3.654951868675192; -2.336671428993757], AutoDiff.var\"#345#346\"{BD{Float64},BD{Array{Float64,2}}}(BD{Float64}((1.0, AutoDiff.var\"#1#2\"())), BD{Array{Float64,2}}(([2.899625660053356; 4.654951868675192; 3.336671428993757], AutoDiff.var\"#183#184\"{BD{Array{Float64,2}},BD{Array{Float64,2}}}(BD{Array{Float64,2}}(([0.5201221718193338 0.15776465206394796 0.5399378705336173 0.9063385966009605; 0.6408129542904766 0.9683554949341235 0.8008389559552518 0.7929026089332545; 0.874205128614981 0.7170734664130549 0.9284446162487909 0.14969957861495042], AutoDiff.var\"#3#4\"{Symbol}(:do))), BD{Array{Float64,2}}(([1.1894943278851258; 2.046420995667722; 0.6028599078437414; 1.8012953456473342], AutoDiff.var\"#183#184\"{BD{Array{Float64,2}},BD{Array{Float64,2}}}(BD{Array{Float64,2}}(([0.5811032023740033 0.0877373056991031 0.3478934768022337 0.6536497934903898; 0.748465033911196 0.8581657887246126 0.20008150182542206 0.8447014689457388; 0.12484802100261949 0.22648305684485037 0.052442099584686375 0.6152691237945629; 0.8854152236332349 0.5751675480099037 0.35145068251293776 0.1554644662129836], AutoDiff.var\"#3#4\"{Symbol}(:dw))), BD{Array{Float64,2}}(([0.9725982412231204; 0.989895521185673; 0.9041638831892502; 0.34102495653303855], AutoDiff.var\"#3#4\"{Symbol}(:di))))))))))))))))))"
      ]
     },
     "execution_count": 4,
     "metadata": {},
     "output_type": "execute_result"
    }
   ],
   "source": [
    "y = sum(abs2.(BD{Float64}(1.0) .-f(i)))"
   ]
  },
  {
   "cell_type": "code",
   "execution_count": 5,
   "metadata": {},
   "outputs": [
    {
     "data": {
      "text/plain": [
       "BD{Float64}((22.42728417774115, AutoDiff.var\"#360#361\"{BD{Array{Float64,2}}}(BD{Array{Float64,2}}(([3.608577648333148; 13.358673162332277; 5.4600333670757255], AutoDiff.var\"#367#368\"{BD{Array{Float64,2}}}(BD{Array{Float64,2}}(([-1.8996256600533559; -3.654951868675192; -2.336671428993757], AutoDiff.var\"#345#346\"{BD{Float64},BD{Array{Float64,2}}}(BD{Float64}((1.0, AutoDiff.var\"#1#2\"())), BD{Array{Float64,2}}(([2.899625660053356; 4.654951868675192; 3.336671428993757], AutoDiff.var\"#183#184\"{BD{Array{Float64,2}},BD{Array{Float64,2}}}(BD{Array{Float64,2}}(([0.5201221718193338 0.15776465206394796 0.5399378705336173 0.9063385966009605; 0.6408129542904766 0.9683554949341235 0.8008389559552518 0.7929026089332545; 0.874205128614981 0.7170734664130549 0.9284446162487909 0.14969957861495042], AutoDiff.var\"#3#4\"{Symbol}(:do))), BD{Array{Float64,2}}(([1.1894943278851258; 2.046420995667722; 0.6028599078437414; 1.8012953456473342], AutoDiff.var\"#183#184\"{BD{Array{Float64,2}},BD{Array{Float64,2}}}(BD{Array{Float64,2}}(([0.5811032023740033 0.0877373056991031 0.3478934768022337 0.6536497934903898; 0.748465033911196 0.8581657887246126 0.20008150182542206 0.8447014689457388; 0.12484802100261949 0.22648305684485037 0.052442099584686375 0.6152691237945629; 0.8854152236332349 0.5751675480099037 0.35145068251293776 0.1554644662129836], AutoDiff.var\"#3#4\"{Symbol}(:dw))), BD{Array{Float64,2}}(([0.9725982412231204; 0.989895521185673; 0.9041638831892502; 0.34102495653303855], AutoDiff.var\"#3#4\"{Symbol}(:di))))))))))))))))))"
      ]
     },
     "execution_count": 5,
     "metadata": {},
     "output_type": "execute_result"
    }
   ],
   "source": [
    "y = sum(abs2.(1.0 .-f(i)))"
   ]
  },
  {
   "cell_type": "code",
   "execution_count": 6,
   "metadata": {},
   "outputs": [
    {
     "data": {
      "text/plain": [
       "(-353.95856578428356, (:do => [101.35311118447086 174.3691666633796 51.36781726146022 153.48277260645781; 195.00723269305675 335.4928946989244 98.83363003438608 295.30667980746597; 124.67136242923183 214.48617925508844 63.185981053369794 188.79446468531194], (:dw => [234.39566314231124 238.56429848991579 217.9030189515353 82.18683465242034; 240.57492856433777 244.85345973473684 223.64749635487752 84.3534885004703; 267.08290501868237 271.83287020010215 248.29030765207693 93.64805755783699; 216.79782647368023 220.65349116732827 201.54340851461967 76.01645388199218], :di => [556.8289533458367; 423.8165635364935; 226.07428049014106; 570.0800928662663])))"
      ]
     },
     "execution_count": 6,
     "metadata": {},
     "output_type": "execute_result"
    }
   ],
   "source": [
    "_dy, _rest = y.f[2](y.f[1])"
   ]
  },
  {
   "cell_type": "code",
   "execution_count": 7,
   "metadata": {},
   "outputs": [
    {
     "data": {
      "text/plain": [
       "Dict{Symbol,Array{Float64,2}} with 3 entries:\n",
       "  :do => [101.353 174.369 51.3678 153.483; 195.007 335.493 98.8336 295.307; 124…\n",
       "  :di => [556.829; 423.817; 226.074; 570.08]\n",
       "  :dw => [234.396 238.564 217.903 82.1868; 240.575 244.853 223.647 84.3535; 267…"
      ]
     },
     "execution_count": 7,
     "metadata": {},
     "output_type": "execute_result"
    }
   ],
   "source": [
    "grads = params(_rest)"
   ]
  },
  {
   "cell_type": "code",
   "execution_count": 8,
   "metadata": {},
   "outputs": [
    {
     "data": {
      "text/plain": [
       "-353.95856578428356"
      ]
     },
     "execution_count": 8,
     "metadata": {},
     "output_type": "execute_result"
    }
   ],
   "source": [
    "_dy"
   ]
  },
  {
   "cell_type": "code",
   "execution_count": 9,
   "metadata": {},
   "outputs": [
    {
     "data": {
      "text/plain": [
       "3×4 Array{Float64,2}:\n",
       " 101.353  174.369  51.3678  153.483\n",
       " 195.007  335.493  98.8336  295.307\n",
       " 124.671  214.486  63.186   188.794"
      ]
     },
     "execution_count": 9,
     "metadata": {},
     "output_type": "execute_result"
    }
   ],
   "source": [
    "_do = grads[:do]"
   ]
  },
  {
   "cell_type": "code",
   "execution_count": 10,
   "metadata": {},
   "outputs": [
    {
     "data": {
      "text/plain": [
       "4×4 Array{Float64,2}:\n",
       " 234.396  238.564  217.903  82.1868\n",
       " 240.575  244.853  223.647  84.3535\n",
       " 267.083  271.833  248.29   93.6481\n",
       " 216.798  220.653  201.543  76.0165"
      ]
     },
     "execution_count": 10,
     "metadata": {},
     "output_type": "execute_result"
    }
   ],
   "source": [
    "_dw = grads[:dw]"
   ]
  },
  {
   "cell_type": "code",
   "execution_count": 11,
   "metadata": {},
   "outputs": [
    {
     "data": {
      "text/plain": [
       "4×1 Array{Float64,2}:\n",
       " 556.8289533458367\n",
       " 423.8165635364935\n",
       " 226.07428049014106\n",
       " 570.0800928662663"
      ]
     },
     "execution_count": 11,
     "metadata": {},
     "output_type": "execute_result"
    }
   ],
   "source": [
    "_di = grads[:di]"
   ]
  },
  {
   "cell_type": "code",
   "execution_count": null,
   "metadata": {},
   "outputs": [],
   "source": []
  }
 ],
 "metadata": {
  "kernelspec": {
   "display_name": "Julia 1.4.1",
   "language": "julia",
   "name": "julia-1.4"
  },
  "language_info": {
   "file_extension": ".jl",
   "mimetype": "application/julia",
   "name": "julia",
   "version": "1.4.1"
  }
 },
 "nbformat": 4,
 "nbformat_minor": 4
}
