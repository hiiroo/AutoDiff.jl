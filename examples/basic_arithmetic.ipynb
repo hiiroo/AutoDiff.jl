{
 "cells": [
  {
   "cell_type": "code",
   "execution_count": 1,
   "metadata": {},
   "outputs": [],
   "source": [
    "using AutoDiff"
   ]
  },
  {
   "cell_type": "code",
   "execution_count": 2,
   "metadata": {},
   "outputs": [
    {
     "data": {
      "text/plain": [
       "BD{Int64}((1, AutoDiff.var\"#3#4\"{Symbol}(:da)))"
      ]
     },
     "execution_count": 2,
     "metadata": {},
     "output_type": "execute_result"
    }
   ],
   "source": [
    "@differentiate a = 1 # Same as a = BD{Int}(1)"
   ]
  },
  {
   "cell_type": "code",
   "execution_count": 3,
   "metadata": {},
   "outputs": [
    {
     "data": {
      "text/plain": [
       "BD{Int64}((-1, AutoDiff.var\"#315#316\"{BD{Int64},BD{Int64}}(BD{Int64}((1, AutoDiff.var\"#3#4\"{Symbol}(:da))), BD{Int64}((2, AutoDiff.var\"#1#2\"())))))"
      ]
     },
     "execution_count": 3,
     "metadata": {},
     "output_type": "execute_result"
    }
   ],
   "source": [
    "a - 2"
   ]
  },
  {
   "cell_type": "code",
   "execution_count": 4,
   "metadata": {},
   "outputs": [
    {
     "data": {
      "text/plain": [
       "BD{Float64}((-1.0, AutoDiff.var\"#315#316\"{BD{Float64},BD{Float64}}(BD{Float64}((1.0, AutoDiff.var\"#3#4\"{Symbol}(:da))), BD{Float64}((2.0, AutoDiff.var\"#1#2\"())))))"
      ]
     },
     "execution_count": 4,
     "metadata": {},
     "output_type": "execute_result"
    }
   ],
   "source": [
    "a - 2.0"
   ]
  },
  {
   "cell_type": "code",
   "execution_count": 5,
   "metadata": {},
   "outputs": [
    {
     "data": {
      "text/plain": [
       "BD{Float64}((1.0, AutoDiff.var\"#315#316\"{BD{Float64},BD{Float64}}(BD{Float64}((2.0, AutoDiff.var\"#1#2\"())), BD{Float64}((1.0, AutoDiff.var\"#3#4\"{Symbol}(:da))))))"
      ]
     },
     "execution_count": 5,
     "metadata": {},
     "output_type": "execute_result"
    }
   ],
   "source": [
    "2.0 - a"
   ]
  },
  {
   "cell_type": "code",
   "execution_count": 6,
   "metadata": {},
   "outputs": [
    {
     "data": {
      "text/plain": [
       "1-element Array{BD{Int64},1}:\n",
       " BD{Int64}((-1, AutoDiff.var\"#315#316\"{BD{Int64},BD{Int64}}(BD{Int64}((1, AutoDiff.var\"#1#2\"())), BD{Int64}((2, AutoDiff.var\"#1#2\"())))))"
      ]
     },
     "execution_count": 6,
     "metadata": {},
     "output_type": "execute_result"
    }
   ],
   "source": [
    "a .- 2"
   ]
  },
  {
   "cell_type": "code",
   "execution_count": 7,
   "metadata": {},
   "outputs": [
    {
     "data": {
      "text/plain": [
       "1-element Array{BD{Int64},1}:\n",
       " BD{Int64}((1, AutoDiff.var\"#315#316\"{BD{Int64},BD{Int64}}(BD{Int64}((2, AutoDiff.var\"#1#2\"())), BD{Int64}((1, AutoDiff.var\"#1#2\"())))))"
      ]
     },
     "execution_count": 7,
     "metadata": {},
     "output_type": "execute_result"
    }
   ],
   "source": [
    "2 .- a"
   ]
  },
  {
   "cell_type": "code",
   "execution_count": null,
   "metadata": {},
   "outputs": [],
   "source": []
  }
 ],
 "metadata": {
  "kernelspec": {
   "display_name": "Julia 1.4.1",
   "language": "julia",
   "name": "julia-1.4"
  },
  "language_info": {
   "file_extension": ".jl",
   "mimetype": "application/julia",
   "name": "julia",
   "version": "1.4.1"
  }
 },
 "nbformat": 4,
 "nbformat_minor": 4
}
